{
 "cells": [
  {
   "cell_type": "code",
   "execution_count": 43,
   "metadata": {
    "collapsed": true,
    "pycharm": {
     "name": "#%%\n"
    }
   },
   "outputs": [],
   "source": [
    "import pandas as pd\n",
    "import matplotlib.pyplot as plt\n",
    "import numpy as np\n",
    "import seaborn as sns"
   ]
  },
  {
   "cell_type": "code",
   "execution_count": 44,
   "outputs": [
    {
     "data": {
      "text/plain": "      Territorio Indicatori      Tipologia di esercizio  \\\n0         Italia    arrivi         esercizi alberghieri   \n1         Italia    arrivi         esercizi alberghieri   \n2         Italia    arrivi         esercizi alberghieri   \n3         Italia    arrivi         esercizi alberghieri   \n4         Italia    arrivi         esercizi alberghieri   \n...          ...        ...                         ...   \n36763     Italia   presenze  esercizi extra-alberghieri   \n36764     Italia   presenze  esercizi extra-alberghieri   \n36765     Italia   presenze  esercizi extra-alberghieri   \n36766     Italia   presenze  esercizi extra-alberghieri   \n36767     Italia   presenze  esercizi extra-alberghieri   \n\n      Paese di residenza dei clienti        TIME    Value  Unnamed: 6  \\\n0                              Altri  01/01/2008  29315.0         NaN   \n1                              Altri  01/02/2008  32928.0         NaN   \n2                              Altri  01/03/2008  40417.0         NaN   \n3                              Altri  01/04/2008  44779.0         NaN   \n4                              Altri  01/05/2008  47401.0         NaN   \n...                              ...         ...      ...         ...   \n36763           Altri paesi africani  01/08/2021  18253.0         NaN   \n36764           Altri paesi africani  01/09/2021  13494.0         NaN   \n36765           Altri paesi africani  01/10/2021  10438.0         NaN   \n36766           Altri paesi africani  01/11/2021   9240.0         NaN   \n36767           Altri paesi africani  01/12/2021   9508.0         NaN   \n\n       Unnamed: 7  Unnamed: 8  Unnamed: 9  Unnamed: 10  \n0             NaN         NaN         NaN          NaN  \n1             NaN         NaN         NaN          NaN  \n2             NaN         NaN         NaN          NaN  \n3             NaN         NaN         NaN          NaN  \n4             NaN         NaN         NaN          NaN  \n...           ...         ...         ...          ...  \n36763         NaN         NaN         NaN          NaN  \n36764         NaN         NaN         NaN          NaN  \n36765         NaN         NaN         NaN          NaN  \n36766         NaN         NaN         NaN          NaN  \n36767         NaN         NaN         NaN          NaN  \n\n[36768 rows x 11 columns]",
      "text/html": "<div>\n<style scoped>\n    .dataframe tbody tr th:only-of-type {\n        vertical-align: middle;\n    }\n\n    .dataframe tbody tr th {\n        vertical-align: top;\n    }\n\n    .dataframe thead th {\n        text-align: right;\n    }\n</style>\n<table border=\"1\" class=\"dataframe\">\n  <thead>\n    <tr style=\"text-align: right;\">\n      <th></th>\n      <th>Territorio</th>\n      <th>Indicatori</th>\n      <th>Tipologia di esercizio</th>\n      <th>Paese di residenza dei clienti</th>\n      <th>TIME</th>\n      <th>Value</th>\n      <th>Unnamed: 6</th>\n      <th>Unnamed: 7</th>\n      <th>Unnamed: 8</th>\n      <th>Unnamed: 9</th>\n      <th>Unnamed: 10</th>\n    </tr>\n  </thead>\n  <tbody>\n    <tr>\n      <th>0</th>\n      <td>Italia</td>\n      <td>arrivi</td>\n      <td>esercizi alberghieri</td>\n      <td>Altri</td>\n      <td>01/01/2008</td>\n      <td>29315.0</td>\n      <td>NaN</td>\n      <td>NaN</td>\n      <td>NaN</td>\n      <td>NaN</td>\n      <td>NaN</td>\n    </tr>\n    <tr>\n      <th>1</th>\n      <td>Italia</td>\n      <td>arrivi</td>\n      <td>esercizi alberghieri</td>\n      <td>Altri</td>\n      <td>01/02/2008</td>\n      <td>32928.0</td>\n      <td>NaN</td>\n      <td>NaN</td>\n      <td>NaN</td>\n      <td>NaN</td>\n      <td>NaN</td>\n    </tr>\n    <tr>\n      <th>2</th>\n      <td>Italia</td>\n      <td>arrivi</td>\n      <td>esercizi alberghieri</td>\n      <td>Altri</td>\n      <td>01/03/2008</td>\n      <td>40417.0</td>\n      <td>NaN</td>\n      <td>NaN</td>\n      <td>NaN</td>\n      <td>NaN</td>\n      <td>NaN</td>\n    </tr>\n    <tr>\n      <th>3</th>\n      <td>Italia</td>\n      <td>arrivi</td>\n      <td>esercizi alberghieri</td>\n      <td>Altri</td>\n      <td>01/04/2008</td>\n      <td>44779.0</td>\n      <td>NaN</td>\n      <td>NaN</td>\n      <td>NaN</td>\n      <td>NaN</td>\n      <td>NaN</td>\n    </tr>\n    <tr>\n      <th>4</th>\n      <td>Italia</td>\n      <td>arrivi</td>\n      <td>esercizi alberghieri</td>\n      <td>Altri</td>\n      <td>01/05/2008</td>\n      <td>47401.0</td>\n      <td>NaN</td>\n      <td>NaN</td>\n      <td>NaN</td>\n      <td>NaN</td>\n      <td>NaN</td>\n    </tr>\n    <tr>\n      <th>...</th>\n      <td>...</td>\n      <td>...</td>\n      <td>...</td>\n      <td>...</td>\n      <td>...</td>\n      <td>...</td>\n      <td>...</td>\n      <td>...</td>\n      <td>...</td>\n      <td>...</td>\n      <td>...</td>\n    </tr>\n    <tr>\n      <th>36763</th>\n      <td>Italia</td>\n      <td>presenze</td>\n      <td>esercizi extra-alberghieri</td>\n      <td>Altri paesi africani</td>\n      <td>01/08/2021</td>\n      <td>18253.0</td>\n      <td>NaN</td>\n      <td>NaN</td>\n      <td>NaN</td>\n      <td>NaN</td>\n      <td>NaN</td>\n    </tr>\n    <tr>\n      <th>36764</th>\n      <td>Italia</td>\n      <td>presenze</td>\n      <td>esercizi extra-alberghieri</td>\n      <td>Altri paesi africani</td>\n      <td>01/09/2021</td>\n      <td>13494.0</td>\n      <td>NaN</td>\n      <td>NaN</td>\n      <td>NaN</td>\n      <td>NaN</td>\n      <td>NaN</td>\n    </tr>\n    <tr>\n      <th>36765</th>\n      <td>Italia</td>\n      <td>presenze</td>\n      <td>esercizi extra-alberghieri</td>\n      <td>Altri paesi africani</td>\n      <td>01/10/2021</td>\n      <td>10438.0</td>\n      <td>NaN</td>\n      <td>NaN</td>\n      <td>NaN</td>\n      <td>NaN</td>\n      <td>NaN</td>\n    </tr>\n    <tr>\n      <th>36766</th>\n      <td>Italia</td>\n      <td>presenze</td>\n      <td>esercizi extra-alberghieri</td>\n      <td>Altri paesi africani</td>\n      <td>01/11/2021</td>\n      <td>9240.0</td>\n      <td>NaN</td>\n      <td>NaN</td>\n      <td>NaN</td>\n      <td>NaN</td>\n      <td>NaN</td>\n    </tr>\n    <tr>\n      <th>36767</th>\n      <td>Italia</td>\n      <td>presenze</td>\n      <td>esercizi extra-alberghieri</td>\n      <td>Altri paesi africani</td>\n      <td>01/12/2021</td>\n      <td>9508.0</td>\n      <td>NaN</td>\n      <td>NaN</td>\n      <td>NaN</td>\n      <td>NaN</td>\n      <td>NaN</td>\n    </tr>\n  </tbody>\n</table>\n<p>36768 rows × 11 columns</p>\n</div>"
     },
     "metadata": {},
     "output_type": "display_data"
    }
   ],
   "source": [
    "csv_path = 'https://raw.githubusercontent.com/FedericoFornone/Laboratorio_Integrato/fintech/DataSet/turismo_da_estero_in_italia.csv'\n",
    "\n",
    "input_df = pd.read_csv(csv_path, sep=\";\")\n",
    "\n",
    "display(input_df)"
   ],
   "metadata": {
    "collapsed": false,
    "pycharm": {
     "name": "#%%\n"
    }
   }
  },
  {
   "cell_type": "code",
   "execution_count": 45,
   "outputs": [
    {
     "data": {
      "text/plain": "array(['01/01/2008', '01/02/2008', '01/03/2008', ..., '01/10/2021',\n       '01/11/2021', '01/12/2021'], dtype=object)"
     },
     "metadata": {},
     "output_type": "display_data"
    },
    {
     "data": {
      "text/plain": "array(['esercizi alberghieri', 'esercizi alberghieri',\n       'esercizi alberghieri', ..., 'esercizi extra-alberghieri',\n       'esercizi extra-alberghieri', 'esercizi extra-alberghieri'],\n      dtype=object)"
     },
     "metadata": {},
     "output_type": "display_data"
    },
    {
     "data": {
      "text/plain": "array(['Altri', 'Altri', 'Altri', ..., 'Altri paesi africani',\n       'Altri paesi africani', 'Altri paesi africani'], dtype=object)"
     },
     "metadata": {},
     "output_type": "display_data"
    },
    {
     "data": {
      "text/plain": "array([29315., 32928., 40417., ...,   367.,   217.,   199.])"
     },
     "metadata": {},
     "output_type": "display_data"
    },
    {
     "data": {
      "text/plain": "array([21317., 24547., 27740., ..., 10438.,  9240.,  9508.])"
     },
     "metadata": {},
     "output_type": "display_data"
    },
    {
     "data": {
      "text/plain": "Empty DataFrame\nColumns: [Date, TypeOfInfrastructure, CountryOfOrigin, Arrivals, Attendance]\nIndex: []",
      "text/html": "<div>\n<style scoped>\n    .dataframe tbody tr th:only-of-type {\n        vertical-align: middle;\n    }\n\n    .dataframe tbody tr th {\n        vertical-align: top;\n    }\n\n    .dataframe thead th {\n        text-align: right;\n    }\n</style>\n<table border=\"1\" class=\"dataframe\">\n  <thead>\n    <tr style=\"text-align: right;\">\n      <th></th>\n      <th>Date</th>\n      <th>TypeOfInfrastructure</th>\n      <th>CountryOfOrigin</th>\n      <th>Arrivals</th>\n      <th>Attendance</th>\n    </tr>\n  </thead>\n  <tbody>\n  </tbody>\n</table>\n</div>"
     },
     "metadata": {},
     "output_type": "display_data"
    }
   ],
   "source": [
    "# Pulizia dataset\n",
    "input_df.columns\n",
    "\n",
    "input_columns = ['Territorio', 'Indicatori', 'Tipologia di esercizio', 'Paese di residenza dei clienti', 'TIME', 'Value']\n",
    "\n",
    "for col in input_df.columns:\n",
    "    if col not in input_columns:\n",
    "        input_df.drop(col, axis=1, inplace=True)\n",
    "\n",
    "column_list = ['Date', 'TypeOfInfrastructure', 'CountryOfOrigin', 'Arrivals', 'Attendance']\n",
    "\n",
    "date = input_df['TIME'].to_numpy()\n",
    "TypeOfInfrastructure = input_df['Tipologia di esercizio'].to_numpy()\n",
    "CountryOfOrigin = input_df['Paese di residenza dei clienti'].to_numpy()\n",
    "Arrivals = input_df[input_df['Indicatori'] == \"arrivi \"]['Value'].to_numpy()\n",
    "Attendance = input_df[input_df['Indicatori'] == \"presenze\"]['Value'].to_numpy()\n",
    "\n",
    "display(date)\n",
    "display(TypeOfInfrastructure)\n",
    "display(CountryOfOrigin)\n",
    "display(Arrivals)\n",
    "display(Attendance)\n",
    "\n",
    "output_df = pd.DataFrame(columns=column_list)\n",
    "\n",
    "\n",
    "\n",
    "\n",
    "display(output_df)"
   ],
   "metadata": {
    "collapsed": false,
    "pycharm": {
     "name": "#%%\n"
    }
   }
  }
 ],
 "metadata": {
  "kernelspec": {
   "display_name": "Python 3",
   "language": "python",
   "name": "python3"
  },
  "language_info": {
   "codemirror_mode": {
    "name": "ipython",
    "version": 2
   },
   "file_extension": ".py",
   "mimetype": "text/x-python",
   "name": "python",
   "nbconvert_exporter": "python",
   "pygments_lexer": "ipython2",
   "version": "2.7.6"
  }
 },
 "nbformat": 4,
 "nbformat_minor": 0
}
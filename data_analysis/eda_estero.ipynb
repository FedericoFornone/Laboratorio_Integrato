{
 "cells": [
  {
   "cell_type": "code",
   "execution_count": 1,
   "metadata": {
    "collapsed": true,
    "pycharm": {
     "name": "#%%\n"
    }
   },
   "outputs": [],
   "source": [
    "import pandas as pd\n",
    "import matplotlib.pyplot as plt\n",
    "import numpy as np\n",
    "import seaborn as sns"
   ]
  },
  {
   "cell_type": "code",
   "execution_count": 2,
   "outputs": [
    {
     "data": {
      "text/plain": "      Territorio TIPO_ALLOGGIO2  \\\n0         Italia      HOTELLIKE   \n1         Italia      HOTELLIKE   \n2         Italia      HOTELLIKE   \n3         Italia      HOTELLIKE   \n4         Italia      HOTELLIKE   \n...          ...            ...   \n18379     Italia          OTHER   \n18380     Italia          OTHER   \n18381     Italia          OTHER   \n18382     Italia          OTHER   \n18383     Italia          OTHER   \n\n                          Paese di residenza dei clienti        TIME   arrivi  \\\n0                                                  Altri  2008-01-01  29315.0   \n1      Altri Paesi del medio oriente (Arabia Saudita,...  2008-01-01   7125.0   \n2                                  Altri Paesi dell'Asia  2008-01-01  13892.0   \n3                                   Altri paesi africani  2008-01-01   6580.0   \n4                                    Altri paesi europei  2008-01-01  41295.0   \n...                                                  ...         ...      ...   \n18379                                         Sud Africa  2021-12-01    147.0   \n18380                                             Svezia  2021-12-01   1222.0   \n18381                                            Turchia  2021-12-01   1076.0   \n18382                                           Ungheria  2021-12-01   1498.0   \n18383                                          Venezuela  2021-12-01    342.0   \n\n       presenze  \n0       72028.0  \n1       25069.0  \n2       41702.0  \n3       21542.0  \n4      148155.0  \n...         ...  \n18379     507.0  \n18380    4538.0  \n18381    6024.0  \n18382    5410.0  \n18383    1472.0  \n\n[18384 rows x 6 columns]",
      "text/html": "<div>\n<style scoped>\n    .dataframe tbody tr th:only-of-type {\n        vertical-align: middle;\n    }\n\n    .dataframe tbody tr th {\n        vertical-align: top;\n    }\n\n    .dataframe thead th {\n        text-align: right;\n    }\n</style>\n<table border=\"1\" class=\"dataframe\">\n  <thead>\n    <tr style=\"text-align: right;\">\n      <th></th>\n      <th>Territorio</th>\n      <th>TIPO_ALLOGGIO2</th>\n      <th>Paese di residenza dei clienti</th>\n      <th>TIME</th>\n      <th>arrivi</th>\n      <th>presenze</th>\n    </tr>\n  </thead>\n  <tbody>\n    <tr>\n      <th>0</th>\n      <td>Italia</td>\n      <td>HOTELLIKE</td>\n      <td>Altri</td>\n      <td>2008-01-01</td>\n      <td>29315.0</td>\n      <td>72028.0</td>\n    </tr>\n    <tr>\n      <th>1</th>\n      <td>Italia</td>\n      <td>HOTELLIKE</td>\n      <td>Altri Paesi del medio oriente (Arabia Saudita,...</td>\n      <td>2008-01-01</td>\n      <td>7125.0</td>\n      <td>25069.0</td>\n    </tr>\n    <tr>\n      <th>2</th>\n      <td>Italia</td>\n      <td>HOTELLIKE</td>\n      <td>Altri Paesi dell'Asia</td>\n      <td>2008-01-01</td>\n      <td>13892.0</td>\n      <td>41702.0</td>\n    </tr>\n    <tr>\n      <th>3</th>\n      <td>Italia</td>\n      <td>HOTELLIKE</td>\n      <td>Altri paesi africani</td>\n      <td>2008-01-01</td>\n      <td>6580.0</td>\n      <td>21542.0</td>\n    </tr>\n    <tr>\n      <th>4</th>\n      <td>Italia</td>\n      <td>HOTELLIKE</td>\n      <td>Altri paesi europei</td>\n      <td>2008-01-01</td>\n      <td>41295.0</td>\n      <td>148155.0</td>\n    </tr>\n    <tr>\n      <th>...</th>\n      <td>...</td>\n      <td>...</td>\n      <td>...</td>\n      <td>...</td>\n      <td>...</td>\n      <td>...</td>\n    </tr>\n    <tr>\n      <th>18379</th>\n      <td>Italia</td>\n      <td>OTHER</td>\n      <td>Sud Africa</td>\n      <td>2021-12-01</td>\n      <td>147.0</td>\n      <td>507.0</td>\n    </tr>\n    <tr>\n      <th>18380</th>\n      <td>Italia</td>\n      <td>OTHER</td>\n      <td>Svezia</td>\n      <td>2021-12-01</td>\n      <td>1222.0</td>\n      <td>4538.0</td>\n    </tr>\n    <tr>\n      <th>18381</th>\n      <td>Italia</td>\n      <td>OTHER</td>\n      <td>Turchia</td>\n      <td>2021-12-01</td>\n      <td>1076.0</td>\n      <td>6024.0</td>\n    </tr>\n    <tr>\n      <th>18382</th>\n      <td>Italia</td>\n      <td>OTHER</td>\n      <td>Ungheria</td>\n      <td>2021-12-01</td>\n      <td>1498.0</td>\n      <td>5410.0</td>\n    </tr>\n    <tr>\n      <th>18383</th>\n      <td>Italia</td>\n      <td>OTHER</td>\n      <td>Venezuela</td>\n      <td>2021-12-01</td>\n      <td>342.0</td>\n      <td>1472.0</td>\n    </tr>\n  </tbody>\n</table>\n<p>18384 rows × 6 columns</p>\n</div>"
     },
     "metadata": {},
     "output_type": "display_data"
    }
   ],
   "source": [
    "path = '../Data/estero.csv'\n",
    "df = pd.read_csv(path)\n",
    "\n",
    "display(df)"
   ],
   "metadata": {
    "collapsed": false,
    "pycharm": {
     "name": "#%%\n"
    }
   }
  },
  {
   "cell_type": "code",
   "execution_count": 4,
   "outputs": [
    {
     "data": {
      "text/plain": "array(['Altri',\n       'Altri Paesi del medio oriente (Arabia Saudita, Barhein, Emirati Arabi Uniti, Giordania, Irak, Iran, Kuwait, Oman, Quatar, Siria, Yemen)',\n       \"Altri Paesi dell'Asia\", 'Altri paesi africani',\n       'Altri paesi europei', 'Argentina', 'Australia', 'Austria',\n       'Belgio', 'Brasile', 'Bulgaria', 'Canada', 'Ceca, Repubblica',\n       'Cina', 'Cipro', 'Corea del sud', 'Croazia', 'Danimarca', 'Egitto',\n       'Estonia', 'Finlandia', 'Francia', 'Germania', 'Giappone',\n       'Grecia', 'India', 'Irlanda', 'Islanda', 'Israele', 'Italia',\n       'Lettonia', 'Lituania', 'Lussemburgo', 'Malta', 'Messico',\n       'Norvegia', 'Nuova Zelanda', 'Paesi Bassi',\n       \"Paesi dell'Africa mediterranea (Libia, Tunisia, Algeria, Marocco)\",\n       'Paesi esteri', 'Polonia', 'Portogallo', 'Regno unito', 'Romania',\n       'Russia', 'Slovacchia', 'Slovenia', 'Spagna', 'Stati Uniti',\n       'Sud Africa', 'Svezia', 'Turchia', 'Ungheria', 'Venezuela',\n       \"Altri Paesi dell'Oceania\"], dtype=object)"
     },
     "metadata": {},
     "output_type": "display_data"
    }
   ],
   "source": [
    "display(df['Paese di residenza dei clienti'].unique())"
   ],
   "metadata": {
    "collapsed": false,
    "pycharm": {
     "name": "#%%\n"
    }
   }
  },
  {
   "cell_type": "code",
   "execution_count": 5,
   "outputs": [
    {
     "data": {
      "text/plain": "array(['2008-01-01', '2008-02-01', '2008-03-01', '2008-04-01',\n       '2008-05-01', '2008-06-01', '2008-07-01', '2008-08-01',\n       '2008-09-01', '2008-10-01', '2008-11-01', '2008-12-01',\n       '2009-01-01', '2009-02-01', '2009-03-01', '2009-04-01',\n       '2009-05-01', '2009-06-01', '2009-07-01', '2009-08-01',\n       '2009-09-01', '2009-10-01', '2009-11-01', '2009-12-01',\n       '2010-01-01', '2010-02-01', '2010-03-01', '2010-04-01',\n       '2010-05-01', '2010-06-01', '2010-07-01', '2010-08-01',\n       '2010-09-01', '2010-10-01', '2010-11-01', '2010-12-01',\n       '2011-01-01', '2011-02-01', '2011-03-01', '2011-04-01',\n       '2011-05-01', '2011-06-01', '2011-07-01', '2011-08-01',\n       '2011-09-01', '2011-10-01', '2011-11-01', '2011-12-01',\n       '2012-01-01', '2012-02-01', '2012-03-01', '2012-04-01',\n       '2012-05-01', '2012-06-01', '2012-07-01', '2012-08-01',\n       '2012-09-01', '2012-10-01', '2012-11-01', '2012-12-01',\n       '2013-01-01', '2013-02-01', '2013-03-01', '2013-04-01',\n       '2013-05-01', '2013-06-01', '2013-07-01', '2013-08-01',\n       '2013-09-01', '2013-10-01', '2013-11-01', '2013-12-01',\n       '2014-01-01', '2014-02-01', '2014-03-01', '2014-04-01',\n       '2014-05-01', '2014-06-01', '2014-07-01', '2014-08-01',\n       '2014-09-01', '2014-10-01', '2014-11-01', '2014-12-01',\n       '2015-01-01', '2015-02-01', '2015-03-01', '2015-04-01',\n       '2015-05-01', '2015-06-01', '2015-07-01', '2015-08-01',\n       '2015-09-01', '2015-10-01', '2015-11-01', '2015-12-01',\n       '2016-01-01', '2016-02-01', '2016-03-01', '2016-04-01',\n       '2016-05-01', '2016-06-01', '2016-07-01', '2016-08-01',\n       '2016-09-01', '2016-10-01', '2016-11-01', '2016-12-01',\n       '2017-01-01', '2017-02-01', '2017-03-01', '2017-04-01',\n       '2017-05-01', '2017-06-01', '2017-07-01', '2017-08-01',\n       '2017-09-01', '2017-10-01', '2017-11-01', '2017-12-01',\n       '2018-01-01', '2018-02-01', '2018-03-01', '2018-04-01',\n       '2018-05-01', '2018-06-01', '2018-07-01', '2018-08-01',\n       '2018-09-01', '2018-10-01', '2018-11-01', '2018-12-01',\n       '2019-01-01', '2019-02-01', '2019-03-01', '2019-04-01',\n       '2019-05-01', '2019-06-01', '2019-07-01', '2019-08-01',\n       '2019-09-01', '2019-10-01', '2019-11-01', '2019-12-01',\n       '2020-01-01', '2020-02-01', '2020-03-01', '2020-04-01',\n       '2020-05-01', '2020-06-01', '2020-07-01', '2020-08-01',\n       '2020-09-01', '2020-10-01', '2020-11-01', '2020-12-01',\n       '2021-01-01', '2021-02-01', '2021-03-01', '2021-04-01',\n       '2021-05-01', '2021-06-01', '2021-07-01', '2021-08-01',\n       '2021-09-01', '2021-10-01', '2021-11-01', '2021-12-01'],\n      dtype=object)"
     },
     "metadata": {},
     "output_type": "display_data"
    }
   ],
   "source": [
    "display(df['TIME'].unique())"
   ],
   "metadata": {
    "collapsed": false,
    "pycharm": {
     "name": "#%%\n"
    }
   }
  },
  {
   "cell_type": "code",
   "execution_count": null,
   "outputs": [],
   "source": [
    "# Aggiungere il dataframe delle percentuali all'interno del dataframe dei turisti esteri per poter ottenere dei dati vicini alla realtà per quanto riguarda l'abruzzo"
   ],
   "metadata": {
    "collapsed": false,
    "pycharm": {
     "name": "#%%\n"
    }
   }
  }
 ],
 "metadata": {
  "kernelspec": {
   "display_name": "Python 3",
   "language": "python",
   "name": "python3"
  },
  "language_info": {
   "codemirror_mode": {
    "name": "ipython",
    "version": 2
   },
   "file_extension": ".py",
   "mimetype": "text/x-python",
   "name": "python",
   "nbconvert_exporter": "python",
   "pygments_lexer": "ipython2",
   "version": "2.7.6"
  }
 },
 "nbformat": 4,
 "nbformat_minor": 0
}
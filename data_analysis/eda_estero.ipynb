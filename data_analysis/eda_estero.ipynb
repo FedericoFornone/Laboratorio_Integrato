{
 "cells": [
  {
   "cell_type": "code",
   "execution_count": 13,
   "metadata": {
    "collapsed": true,
    "pycharm": {
     "name": "#%%\n"
    }
   },
   "outputs": [],
   "source": [
    "import pandas as pd\n",
    "import matplotlib.pyplot as plt\n",
    "import numpy as np\n",
    "import seaborn as sns"
   ]
  },
  {
   "cell_type": "code",
   "execution_count": 14,
   "outputs": [
    {
     "data": {
      "text/plain": "      Territorio TIPO_ALLOGGIO2  \\\n0         Italia      HOTELLIKE   \n1         Italia      HOTELLIKE   \n2         Italia      HOTELLIKE   \n3         Italia      HOTELLIKE   \n4         Italia      HOTELLIKE   \n...          ...            ...   \n18379     Italia          OTHER   \n18380     Italia          OTHER   \n18381     Italia          OTHER   \n18382     Italia          OTHER   \n18383     Italia          OTHER   \n\n                          Paese di residenza dei clienti        TIME   arrivi  \\\n0                                                  Altri  2008-01-01  29315.0   \n1      Altri Paesi del medio oriente (Arabia Saudita,...  2008-01-01   7125.0   \n2                                  Altri Paesi dell'Asia  2008-01-01  13892.0   \n3                                   Altri paesi africani  2008-01-01   6580.0   \n4                                    Altri paesi europei  2008-01-01  41295.0   \n...                                                  ...         ...      ...   \n18379                                         Sud Africa  2021-12-01    147.0   \n18380                                             Svezia  2021-12-01   1222.0   \n18381                                            Turchia  2021-12-01   1076.0   \n18382                                           Ungheria  2021-12-01   1498.0   \n18383                                          Venezuela  2021-12-01    342.0   \n\n       presenze  \n0       72028.0  \n1       25069.0  \n2       41702.0  \n3       21542.0  \n4      148155.0  \n...         ...  \n18379     507.0  \n18380    4538.0  \n18381    6024.0  \n18382    5410.0  \n18383    1472.0  \n\n[18384 rows x 6 columns]",
      "text/html": "<div>\n<style scoped>\n    .dataframe tbody tr th:only-of-type {\n        vertical-align: middle;\n    }\n\n    .dataframe tbody tr th {\n        vertical-align: top;\n    }\n\n    .dataframe thead th {\n        text-align: right;\n    }\n</style>\n<table border=\"1\" class=\"dataframe\">\n  <thead>\n    <tr style=\"text-align: right;\">\n      <th></th>\n      <th>Territorio</th>\n      <th>TIPO_ALLOGGIO2</th>\n      <th>Paese di residenza dei clienti</th>\n      <th>TIME</th>\n      <th>arrivi</th>\n      <th>presenze</th>\n    </tr>\n  </thead>\n  <tbody>\n    <tr>\n      <th>0</th>\n      <td>Italia</td>\n      <td>HOTELLIKE</td>\n      <td>Altri</td>\n      <td>2008-01-01</td>\n      <td>29315.0</td>\n      <td>72028.0</td>\n    </tr>\n    <tr>\n      <th>1</th>\n      <td>Italia</td>\n      <td>HOTELLIKE</td>\n      <td>Altri Paesi del medio oriente (Arabia Saudita,...</td>\n      <td>2008-01-01</td>\n      <td>7125.0</td>\n      <td>25069.0</td>\n    </tr>\n    <tr>\n      <th>2</th>\n      <td>Italia</td>\n      <td>HOTELLIKE</td>\n      <td>Altri Paesi dell'Asia</td>\n      <td>2008-01-01</td>\n      <td>13892.0</td>\n      <td>41702.0</td>\n    </tr>\n    <tr>\n      <th>3</th>\n      <td>Italia</td>\n      <td>HOTELLIKE</td>\n      <td>Altri paesi africani</td>\n      <td>2008-01-01</td>\n      <td>6580.0</td>\n      <td>21542.0</td>\n    </tr>\n    <tr>\n      <th>4</th>\n      <td>Italia</td>\n      <td>HOTELLIKE</td>\n      <td>Altri paesi europei</td>\n      <td>2008-01-01</td>\n      <td>41295.0</td>\n      <td>148155.0</td>\n    </tr>\n    <tr>\n      <th>...</th>\n      <td>...</td>\n      <td>...</td>\n      <td>...</td>\n      <td>...</td>\n      <td>...</td>\n      <td>...</td>\n    </tr>\n    <tr>\n      <th>18379</th>\n      <td>Italia</td>\n      <td>OTHER</td>\n      <td>Sud Africa</td>\n      <td>2021-12-01</td>\n      <td>147.0</td>\n      <td>507.0</td>\n    </tr>\n    <tr>\n      <th>18380</th>\n      <td>Italia</td>\n      <td>OTHER</td>\n      <td>Svezia</td>\n      <td>2021-12-01</td>\n      <td>1222.0</td>\n      <td>4538.0</td>\n    </tr>\n    <tr>\n      <th>18381</th>\n      <td>Italia</td>\n      <td>OTHER</td>\n      <td>Turchia</td>\n      <td>2021-12-01</td>\n      <td>1076.0</td>\n      <td>6024.0</td>\n    </tr>\n    <tr>\n      <th>18382</th>\n      <td>Italia</td>\n      <td>OTHER</td>\n      <td>Ungheria</td>\n      <td>2021-12-01</td>\n      <td>1498.0</td>\n      <td>5410.0</td>\n    </tr>\n    <tr>\n      <th>18383</th>\n      <td>Italia</td>\n      <td>OTHER</td>\n      <td>Venezuela</td>\n      <td>2021-12-01</td>\n      <td>342.0</td>\n      <td>1472.0</td>\n    </tr>\n  </tbody>\n</table>\n<p>18384 rows × 6 columns</p>\n</div>"
     },
     "metadata": {},
     "output_type": "display_data"
    }
   ],
   "source": [
    "# Apertura del dataframe\n",
    "path = '../Data/estero.csv'\n",
    "df = pd.read_csv(path)\n",
    "\n",
    "display(df)"
   ],
   "metadata": {
    "collapsed": false,
    "pycharm": {
     "name": "#%%\n"
    }
   }
  },
  {
   "cell_type": "code",
   "execution_count": 22,
   "outputs": [
    {
     "name": "stdout",
     "output_type": "stream",
     "text": [
      "['Altri'\n",
      " 'Altri Paesi del medio oriente (Arabia Saudita, Barhein, Emirati Arabi Uniti, Giordania, Irak, Iran, Kuwait, Oman, Quatar, Siria, Yemen)'\n",
      " \"Altri Paesi dell'Asia\" 'Altri paesi africani' 'Altri paesi europei'\n",
      " 'Argentina' 'Australia' 'Austria' 'Belgio' 'Brasile' 'Bulgaria' 'Canada'\n",
      " 'Ceca, Repubblica' 'Cina' 'Cipro' 'Corea del sud' 'Croazia' 'Danimarca'\n",
      " 'Egitto' 'Estonia' 'Finlandia' 'Francia' 'Germania' 'Giappone' 'Grecia'\n",
      " 'India' 'Irlanda' 'Islanda' 'Israele' 'Italia' 'Lettonia' 'Lituania'\n",
      " 'Lussemburgo' 'Malta' 'Messico' 'Norvegia' 'Nuova Zelanda' 'Paesi Bassi'\n",
      " \"Paesi dell'Africa mediterranea (Libia, Tunisia, Algeria, Marocco)\"\n",
      " 'Paesi esteri' 'Polonia' 'Portogallo' 'Regno unito' 'Romania' 'Russia'\n",
      " 'Slovacchia' 'Slovenia' 'Spagna' 'Stati Uniti' 'Sud Africa' 'Svezia'\n",
      " 'Turchia' 'Ungheria' 'Venezuela' \"Altri Paesi dell'Oceania\"]\n"
     ]
    }
   ],
   "source": [
    "# Creazione di una lista di paesi di provenienza dei turisti esteri\n",
    "country_list = df['Paese di residenza dei clienti'].unique()\n",
    "print(country_list)"
   ],
   "metadata": {
    "collapsed": false,
    "pycharm": {
     "name": "#%%\n"
    }
   }
  },
  {
   "cell_type": "code",
   "execution_count": 16,
   "outputs": [],
   "source": [
    "# Apertura del dataframe riguardanti le percentuali dei turisti esteri in italia\n",
    "path_percentage = '../Data/percentuali_arrivi_presenze.csv'\n",
    "percentage_df = pd.read_csv(path_percentage, sep=',')"
   ],
   "metadata": {
    "collapsed": false,
    "pycharm": {
     "name": "#%%\n"
    }
   }
  },
  {
   "cell_type": "code",
   "execution_count": 20,
   "outputs": [],
   "source": [
    "# Merge dei due dataset messi in relazione tra di loro tramite la variabile 'TIME'\n",
    "df = pd.merge(df, percentage_df, on = \"TIME\", how = \"inner\")"
   ],
   "metadata": {
    "collapsed": false,
    "pycharm": {
     "name": "#%%\n"
    }
   }
  },
  {
   "cell_type": "code",
   "execution_count": 21,
   "outputs": [
    {
     "data": {
      "text/plain": "      Territorio TIPO_ALLOGGIO2  \\\n0         Italia      HOTELLIKE   \n1         Italia      HOTELLIKE   \n2         Italia      HOTELLIKE   \n3         Italia      HOTELLIKE   \n4         Italia      HOTELLIKE   \n...          ...            ...   \n18379     Italia          OTHER   \n18380     Italia          OTHER   \n18381     Italia          OTHER   \n18382     Italia          OTHER   \n18383     Italia          OTHER   \n\n                          Paese di residenza dei clienti        TIME   arrivi  \\\n0                                                  Altri  2008-01-01  29315.0   \n1      Altri Paesi del medio oriente (Arabia Saudita,...  2008-01-01   7125.0   \n2                                  Altri Paesi dell'Asia  2008-01-01  13892.0   \n3                                   Altri paesi africani  2008-01-01   6580.0   \n4                                    Altri paesi europei  2008-01-01  41295.0   \n...                                                  ...         ...      ...   \n18379                                         Sud Africa  2021-12-01    147.0   \n18380                                             Svezia  2021-12-01   1222.0   \n18381                                            Turchia  2021-12-01   1076.0   \n18382                                           Ungheria  2021-12-01   1498.0   \n18383                                          Venezuela  2021-12-01    342.0   \n\n       presenze  percentage_arrivals  percentage_attendance  \n0       72028.0             0.347638               0.369752  \n1       25069.0             0.347638               0.369752  \n2       41702.0             0.347638               0.369752  \n3       21542.0             0.347638               0.369752  \n4      148155.0             0.347638               0.369752  \n...         ...                  ...                    ...  \n18379     507.0             0.249932               0.205099  \n18380    4538.0             0.249932               0.205099  \n18381    6024.0             0.249932               0.205099  \n18382    5410.0             0.249932               0.205099  \n18383    1472.0             0.249932               0.205099  \n\n[18384 rows x 8 columns]",
      "text/html": "<div>\n<style scoped>\n    .dataframe tbody tr th:only-of-type {\n        vertical-align: middle;\n    }\n\n    .dataframe tbody tr th {\n        vertical-align: top;\n    }\n\n    .dataframe thead th {\n        text-align: right;\n    }\n</style>\n<table border=\"1\" class=\"dataframe\">\n  <thead>\n    <tr style=\"text-align: right;\">\n      <th></th>\n      <th>Territorio</th>\n      <th>TIPO_ALLOGGIO2</th>\n      <th>Paese di residenza dei clienti</th>\n      <th>TIME</th>\n      <th>arrivi</th>\n      <th>presenze</th>\n      <th>percentage_arrivals</th>\n      <th>percentage_attendance</th>\n    </tr>\n  </thead>\n  <tbody>\n    <tr>\n      <th>0</th>\n      <td>Italia</td>\n      <td>HOTELLIKE</td>\n      <td>Altri</td>\n      <td>2008-01-01</td>\n      <td>29315.0</td>\n      <td>72028.0</td>\n      <td>0.347638</td>\n      <td>0.369752</td>\n    </tr>\n    <tr>\n      <th>1</th>\n      <td>Italia</td>\n      <td>HOTELLIKE</td>\n      <td>Altri Paesi del medio oriente (Arabia Saudita,...</td>\n      <td>2008-01-01</td>\n      <td>7125.0</td>\n      <td>25069.0</td>\n      <td>0.347638</td>\n      <td>0.369752</td>\n    </tr>\n    <tr>\n      <th>2</th>\n      <td>Italia</td>\n      <td>HOTELLIKE</td>\n      <td>Altri Paesi dell'Asia</td>\n      <td>2008-01-01</td>\n      <td>13892.0</td>\n      <td>41702.0</td>\n      <td>0.347638</td>\n      <td>0.369752</td>\n    </tr>\n    <tr>\n      <th>3</th>\n      <td>Italia</td>\n      <td>HOTELLIKE</td>\n      <td>Altri paesi africani</td>\n      <td>2008-01-01</td>\n      <td>6580.0</td>\n      <td>21542.0</td>\n      <td>0.347638</td>\n      <td>0.369752</td>\n    </tr>\n    <tr>\n      <th>4</th>\n      <td>Italia</td>\n      <td>HOTELLIKE</td>\n      <td>Altri paesi europei</td>\n      <td>2008-01-01</td>\n      <td>41295.0</td>\n      <td>148155.0</td>\n      <td>0.347638</td>\n      <td>0.369752</td>\n    </tr>\n    <tr>\n      <th>...</th>\n      <td>...</td>\n      <td>...</td>\n      <td>...</td>\n      <td>...</td>\n      <td>...</td>\n      <td>...</td>\n      <td>...</td>\n      <td>...</td>\n    </tr>\n    <tr>\n      <th>18379</th>\n      <td>Italia</td>\n      <td>OTHER</td>\n      <td>Sud Africa</td>\n      <td>2021-12-01</td>\n      <td>147.0</td>\n      <td>507.0</td>\n      <td>0.249932</td>\n      <td>0.205099</td>\n    </tr>\n    <tr>\n      <th>18380</th>\n      <td>Italia</td>\n      <td>OTHER</td>\n      <td>Svezia</td>\n      <td>2021-12-01</td>\n      <td>1222.0</td>\n      <td>4538.0</td>\n      <td>0.249932</td>\n      <td>0.205099</td>\n    </tr>\n    <tr>\n      <th>18381</th>\n      <td>Italia</td>\n      <td>OTHER</td>\n      <td>Turchia</td>\n      <td>2021-12-01</td>\n      <td>1076.0</td>\n      <td>6024.0</td>\n      <td>0.249932</td>\n      <td>0.205099</td>\n    </tr>\n    <tr>\n      <th>18382</th>\n      <td>Italia</td>\n      <td>OTHER</td>\n      <td>Ungheria</td>\n      <td>2021-12-01</td>\n      <td>1498.0</td>\n      <td>5410.0</td>\n      <td>0.249932</td>\n      <td>0.205099</td>\n    </tr>\n    <tr>\n      <th>18383</th>\n      <td>Italia</td>\n      <td>OTHER</td>\n      <td>Venezuela</td>\n      <td>2021-12-01</td>\n      <td>342.0</td>\n      <td>1472.0</td>\n      <td>0.249932</td>\n      <td>0.205099</td>\n    </tr>\n  </tbody>\n</table>\n<p>18384 rows × 8 columns</p>\n</div>"
     },
     "metadata": {},
     "output_type": "display_data"
    }
   ],
   "source": [
    "display(df)"
   ],
   "metadata": {
    "collapsed": false,
    "pycharm": {
     "name": "#%%\n"
    }
   }
  },
  {
   "cell_type": "code",
   "execution_count": 26,
   "outputs": [
    {
     "ename": "TypeError",
     "evalue": "percentage() missing 1 required positional argument: 'percent'",
     "output_type": "error",
     "traceback": [
      "\u001B[1;31m---------------------------------------------------------------------------\u001B[0m",
      "\u001B[1;31mTypeError\u001B[0m                                 Traceback (most recent call last)",
      "Cell \u001B[1;32mIn[26], line 5\u001B[0m\n\u001B[0;32m      2\u001B[0m \u001B[38;5;28;01mdef\u001B[39;00m \u001B[38;5;21mpercentage\u001B[39m(num, percent):\n\u001B[0;32m      3\u001B[0m     \u001B[38;5;28;01mreturn\u001B[39;00m num \u001B[38;5;241m*\u001B[39m percentage \u001B[38;5;241m/\u001B[39m \u001B[38;5;241m100\u001B[39m\n\u001B[1;32m----> 5\u001B[0m \u001B[43mdf\u001B[49m\u001B[43m[\u001B[49m\u001B[38;5;124;43m'\u001B[39;49m\u001B[38;5;124;43marrivi\u001B[39;49m\u001B[38;5;124;43m'\u001B[39;49m\u001B[43m]\u001B[49m\u001B[38;5;241;43m.\u001B[39;49m\u001B[43mapply\u001B[49m\u001B[43m(\u001B[49m\u001B[43mpercentage\u001B[49m\u001B[43m)\u001B[49m\n",
      "File \u001B[1;32m~\\AppData\\Local\\Programs\\Python\\Python310\\lib\\site-packages\\pandas\\core\\series.py:4774\u001B[0m, in \u001B[0;36mSeries.apply\u001B[1;34m(self, func, convert_dtype, args, **kwargs)\u001B[0m\n\u001B[0;32m   4664\u001B[0m \u001B[38;5;28;01mdef\u001B[39;00m \u001B[38;5;21mapply\u001B[39m(\n\u001B[0;32m   4665\u001B[0m     \u001B[38;5;28mself\u001B[39m,\n\u001B[0;32m   4666\u001B[0m     func: AggFuncType,\n\u001B[1;32m   (...)\u001B[0m\n\u001B[0;32m   4669\u001B[0m     \u001B[38;5;241m*\u001B[39m\u001B[38;5;241m*\u001B[39mkwargs,\n\u001B[0;32m   4670\u001B[0m ) \u001B[38;5;241m-\u001B[39m\u001B[38;5;241m>\u001B[39m DataFrame \u001B[38;5;241m|\u001B[39m Series:\n\u001B[0;32m   4671\u001B[0m     \u001B[38;5;124;03m\"\"\"\u001B[39;00m\n\u001B[0;32m   4672\u001B[0m \u001B[38;5;124;03m    Invoke function on values of Series.\u001B[39;00m\n\u001B[0;32m   4673\u001B[0m \n\u001B[1;32m   (...)\u001B[0m\n\u001B[0;32m   4772\u001B[0m \u001B[38;5;124;03m    dtype: float64\u001B[39;00m\n\u001B[0;32m   4773\u001B[0m \u001B[38;5;124;03m    \"\"\"\u001B[39;00m\n\u001B[1;32m-> 4774\u001B[0m     \u001B[38;5;28;01mreturn\u001B[39;00m \u001B[43mSeriesApply\u001B[49m\u001B[43m(\u001B[49m\u001B[38;5;28;43mself\u001B[39;49m\u001B[43m,\u001B[49m\u001B[43m \u001B[49m\u001B[43mfunc\u001B[49m\u001B[43m,\u001B[49m\u001B[43m \u001B[49m\u001B[43mconvert_dtype\u001B[49m\u001B[43m,\u001B[49m\u001B[43m \u001B[49m\u001B[43margs\u001B[49m\u001B[43m,\u001B[49m\u001B[43m \u001B[49m\u001B[43mkwargs\u001B[49m\u001B[43m)\u001B[49m\u001B[38;5;241;43m.\u001B[39;49m\u001B[43mapply\u001B[49m\u001B[43m(\u001B[49m\u001B[43m)\u001B[49m\n",
      "File \u001B[1;32m~\\AppData\\Local\\Programs\\Python\\Python310\\lib\\site-packages\\pandas\\core\\apply.py:1100\u001B[0m, in \u001B[0;36mSeriesApply.apply\u001B[1;34m(self)\u001B[0m\n\u001B[0;32m   1097\u001B[0m     \u001B[38;5;28;01mreturn\u001B[39;00m \u001B[38;5;28mself\u001B[39m\u001B[38;5;241m.\u001B[39mapply_str()\n\u001B[0;32m   1099\u001B[0m \u001B[38;5;66;03m# self.f is Callable\u001B[39;00m\n\u001B[1;32m-> 1100\u001B[0m \u001B[38;5;28;01mreturn\u001B[39;00m \u001B[38;5;28;43mself\u001B[39;49m\u001B[38;5;241;43m.\u001B[39;49m\u001B[43mapply_standard\u001B[49m\u001B[43m(\u001B[49m\u001B[43m)\u001B[49m\n",
      "File \u001B[1;32m~\\AppData\\Local\\Programs\\Python\\Python310\\lib\\site-packages\\pandas\\core\\apply.py:1151\u001B[0m, in \u001B[0;36mSeriesApply.apply_standard\u001B[1;34m(self)\u001B[0m\n\u001B[0;32m   1149\u001B[0m     \u001B[38;5;28;01melse\u001B[39;00m:\n\u001B[0;32m   1150\u001B[0m         values \u001B[38;5;241m=\u001B[39m obj\u001B[38;5;241m.\u001B[39mastype(\u001B[38;5;28mobject\u001B[39m)\u001B[38;5;241m.\u001B[39m_values\n\u001B[1;32m-> 1151\u001B[0m         mapped \u001B[38;5;241m=\u001B[39m \u001B[43mlib\u001B[49m\u001B[38;5;241;43m.\u001B[39;49m\u001B[43mmap_infer\u001B[49m\u001B[43m(\u001B[49m\n\u001B[0;32m   1152\u001B[0m \u001B[43m            \u001B[49m\u001B[43mvalues\u001B[49m\u001B[43m,\u001B[49m\n\u001B[0;32m   1153\u001B[0m \u001B[43m            \u001B[49m\u001B[43mf\u001B[49m\u001B[43m,\u001B[49m\n\u001B[0;32m   1154\u001B[0m \u001B[43m            \u001B[49m\u001B[43mconvert\u001B[49m\u001B[38;5;241;43m=\u001B[39;49m\u001B[38;5;28;43mself\u001B[39;49m\u001B[38;5;241;43m.\u001B[39;49m\u001B[43mconvert_dtype\u001B[49m\u001B[43m,\u001B[49m\n\u001B[0;32m   1155\u001B[0m \u001B[43m        \u001B[49m\u001B[43m)\u001B[49m\n\u001B[0;32m   1157\u001B[0m \u001B[38;5;28;01mif\u001B[39;00m \u001B[38;5;28mlen\u001B[39m(mapped) \u001B[38;5;129;01mand\u001B[39;00m \u001B[38;5;28misinstance\u001B[39m(mapped[\u001B[38;5;241m0\u001B[39m], ABCSeries):\n\u001B[0;32m   1158\u001B[0m     \u001B[38;5;66;03m# GH#43986 Need to do list(mapped) in order to get treated as nested\u001B[39;00m\n\u001B[0;32m   1159\u001B[0m     \u001B[38;5;66;03m#  See also GH#25959 regarding EA support\u001B[39;00m\n\u001B[0;32m   1160\u001B[0m     \u001B[38;5;28;01mreturn\u001B[39;00m obj\u001B[38;5;241m.\u001B[39m_constructor_expanddim(\u001B[38;5;28mlist\u001B[39m(mapped), index\u001B[38;5;241m=\u001B[39mobj\u001B[38;5;241m.\u001B[39mindex)\n",
      "File \u001B[1;32m~\\AppData\\Local\\Programs\\Python\\Python310\\lib\\site-packages\\pandas\\_libs\\lib.pyx:2919\u001B[0m, in \u001B[0;36mpandas._libs.lib.map_infer\u001B[1;34m()\u001B[0m\n",
      "\u001B[1;31mTypeError\u001B[0m: percentage() missing 1 required positional argument: 'percent'"
     ]
    }
   ],
   "source": [
    "# Calcolo delle percentuali delle presenze e degli arrivi in italia da parte di turisti esteri\n",
    "def percentage(num, percent):\n",
    "    return num * percentage / 100\n",
    "\n",
    "df['arrivi'].apply(percentage)"
   ],
   "metadata": {
    "collapsed": false,
    "pycharm": {
     "name": "#%%\n"
    }
   }
  }
 ],
 "metadata": {
  "kernelspec": {
   "display_name": "Python 3",
   "language": "python",
   "name": "python3"
  },
  "language_info": {
   "codemirror_mode": {
    "name": "ipython",
    "version": 2
   },
   "file_extension": ".py",
   "mimetype": "text/x-python",
   "name": "python",
   "nbconvert_exporter": "python",
   "pygments_lexer": "ipython2",
   "version": "2.7.6"
  }
 },
 "nbformat": 4,
 "nbformat_minor": 0
}
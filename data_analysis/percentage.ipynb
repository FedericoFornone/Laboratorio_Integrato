{
 "cells": [
  {
   "cell_type": "code",
   "execution_count": 1,
   "outputs": [],
   "source": [
    "import pandas as pd\n",
    "import numpy as np"
   ],
   "metadata": {
    "collapsed": false,
    "pycharm": {
     "name": "#%%\n"
    }
   }
  },
  {
   "cell_type": "code",
   "execution_count": 2,
   "outputs": [
    {
     "data": {
      "text/plain": "    Territorio TIPO_ALLOGGIO2 Paese di residenza dei clienti        TIME  \\\n0      Abruzzo            ALL                   Paesi esteri  2008-01-01   \n1       Italia            ALL                   Paesi esteri  2008-01-01   \n2      Abruzzo            ALL                   Paesi esteri  2008-02-01   \n3       Italia            ALL                   Paesi esteri  2008-02-01   \n4      Abruzzo            ALL                   Paesi esteri  2008-03-01   \n..         ...            ...                            ...         ...   \n331     Italia            ALL                   Paesi esteri  2021-10-01   \n332    Abruzzo            ALL                   Paesi esteri  2021-11-01   \n333     Italia            ALL                   Paesi esteri  2021-11-01   \n334    Abruzzo            ALL                   Paesi esteri  2021-12-01   \n335     Italia            ALL                   Paesi esteri  2021-12-01   \n\n      arrivi  presenze  \n0       5548     21724  \n1    1595913   5875297  \n2       7245     28281  \n3    2004381   7288219  \n4       8108     27915  \n..       ...       ...  \n331  3697043  11802436  \n332     3817     11277  \n333  1335662   4250595  \n334     2995      8732  \n335  1198327   4257461  \n\n[336 rows x 6 columns]",
      "text/html": "<div>\n<style scoped>\n    .dataframe tbody tr th:only-of-type {\n        vertical-align: middle;\n    }\n\n    .dataframe tbody tr th {\n        vertical-align: top;\n    }\n\n    .dataframe thead th {\n        text-align: right;\n    }\n</style>\n<table border=\"1\" class=\"dataframe\">\n  <thead>\n    <tr style=\"text-align: right;\">\n      <th></th>\n      <th>Territorio</th>\n      <th>TIPO_ALLOGGIO2</th>\n      <th>Paese di residenza dei clienti</th>\n      <th>TIME</th>\n      <th>arrivi</th>\n      <th>presenze</th>\n    </tr>\n  </thead>\n  <tbody>\n    <tr>\n      <th>0</th>\n      <td>Abruzzo</td>\n      <td>ALL</td>\n      <td>Paesi esteri</td>\n      <td>2008-01-01</td>\n      <td>5548</td>\n      <td>21724</td>\n    </tr>\n    <tr>\n      <th>1</th>\n      <td>Italia</td>\n      <td>ALL</td>\n      <td>Paesi esteri</td>\n      <td>2008-01-01</td>\n      <td>1595913</td>\n      <td>5875297</td>\n    </tr>\n    <tr>\n      <th>2</th>\n      <td>Abruzzo</td>\n      <td>ALL</td>\n      <td>Paesi esteri</td>\n      <td>2008-02-01</td>\n      <td>7245</td>\n      <td>28281</td>\n    </tr>\n    <tr>\n      <th>3</th>\n      <td>Italia</td>\n      <td>ALL</td>\n      <td>Paesi esteri</td>\n      <td>2008-02-01</td>\n      <td>2004381</td>\n      <td>7288219</td>\n    </tr>\n    <tr>\n      <th>4</th>\n      <td>Abruzzo</td>\n      <td>ALL</td>\n      <td>Paesi esteri</td>\n      <td>2008-03-01</td>\n      <td>8108</td>\n      <td>27915</td>\n    </tr>\n    <tr>\n      <th>...</th>\n      <td>...</td>\n      <td>...</td>\n      <td>...</td>\n      <td>...</td>\n      <td>...</td>\n      <td>...</td>\n    </tr>\n    <tr>\n      <th>331</th>\n      <td>Italia</td>\n      <td>ALL</td>\n      <td>Paesi esteri</td>\n      <td>2021-10-01</td>\n      <td>3697043</td>\n      <td>11802436</td>\n    </tr>\n    <tr>\n      <th>332</th>\n      <td>Abruzzo</td>\n      <td>ALL</td>\n      <td>Paesi esteri</td>\n      <td>2021-11-01</td>\n      <td>3817</td>\n      <td>11277</td>\n    </tr>\n    <tr>\n      <th>333</th>\n      <td>Italia</td>\n      <td>ALL</td>\n      <td>Paesi esteri</td>\n      <td>2021-11-01</td>\n      <td>1335662</td>\n      <td>4250595</td>\n    </tr>\n    <tr>\n      <th>334</th>\n      <td>Abruzzo</td>\n      <td>ALL</td>\n      <td>Paesi esteri</td>\n      <td>2021-12-01</td>\n      <td>2995</td>\n      <td>8732</td>\n    </tr>\n    <tr>\n      <th>335</th>\n      <td>Italia</td>\n      <td>ALL</td>\n      <td>Paesi esteri</td>\n      <td>2021-12-01</td>\n      <td>1198327</td>\n      <td>4257461</td>\n    </tr>\n  </tbody>\n</table>\n<p>336 rows × 6 columns</p>\n</div>"
     },
     "metadata": {},
     "output_type": "display_data"
    }
   ],
   "source": [
    "path = '../Data/italia_abruzzo_stranieri.csv'\n",
    "df = pd.read_csv(path, sep=',')\n",
    "display(df)"
   ],
   "metadata": {
    "collapsed": false,
    "pycharm": {
     "name": "#%%\n"
    }
   }
  },
  {
   "cell_type": "code",
   "execution_count": 3,
   "outputs": [
    {
     "data": {
      "text/plain": "array(['Abruzzo', 'Italia'], dtype=object)"
     },
     "metadata": {},
     "output_type": "display_data"
    },
    {
     "data": {
      "text/plain": "array(['Paesi esteri'], dtype=object)"
     },
     "metadata": {},
     "output_type": "display_data"
    },
    {
     "data": {
      "text/plain": "    Territorio Paese di residenza dei clienti        TIME   arrivi  presenze\n0      Abruzzo                   Paesi esteri  2008-01-01     5548     21724\n1       Italia                   Paesi esteri  2008-01-01  1595913   5875297\n2      Abruzzo                   Paesi esteri  2008-02-01     7245     28281\n3       Italia                   Paesi esteri  2008-02-01  2004381   7288219\n4      Abruzzo                   Paesi esteri  2008-03-01     8108     27915\n..         ...                            ...         ...      ...       ...\n331     Italia                   Paesi esteri  2021-10-01  3697043  11802436\n332    Abruzzo                   Paesi esteri  2021-11-01     3817     11277\n333     Italia                   Paesi esteri  2021-11-01  1335662   4250595\n334    Abruzzo                   Paesi esteri  2021-12-01     2995      8732\n335     Italia                   Paesi esteri  2021-12-01  1198327   4257461\n\n[336 rows x 5 columns]",
      "text/html": "<div>\n<style scoped>\n    .dataframe tbody tr th:only-of-type {\n        vertical-align: middle;\n    }\n\n    .dataframe tbody tr th {\n        vertical-align: top;\n    }\n\n    .dataframe thead th {\n        text-align: right;\n    }\n</style>\n<table border=\"1\" class=\"dataframe\">\n  <thead>\n    <tr style=\"text-align: right;\">\n      <th></th>\n      <th>Territorio</th>\n      <th>Paese di residenza dei clienti</th>\n      <th>TIME</th>\n      <th>arrivi</th>\n      <th>presenze</th>\n    </tr>\n  </thead>\n  <tbody>\n    <tr>\n      <th>0</th>\n      <td>Abruzzo</td>\n      <td>Paesi esteri</td>\n      <td>2008-01-01</td>\n      <td>5548</td>\n      <td>21724</td>\n    </tr>\n    <tr>\n      <th>1</th>\n      <td>Italia</td>\n      <td>Paesi esteri</td>\n      <td>2008-01-01</td>\n      <td>1595913</td>\n      <td>5875297</td>\n    </tr>\n    <tr>\n      <th>2</th>\n      <td>Abruzzo</td>\n      <td>Paesi esteri</td>\n      <td>2008-02-01</td>\n      <td>7245</td>\n      <td>28281</td>\n    </tr>\n    <tr>\n      <th>3</th>\n      <td>Italia</td>\n      <td>Paesi esteri</td>\n      <td>2008-02-01</td>\n      <td>2004381</td>\n      <td>7288219</td>\n    </tr>\n    <tr>\n      <th>4</th>\n      <td>Abruzzo</td>\n      <td>Paesi esteri</td>\n      <td>2008-03-01</td>\n      <td>8108</td>\n      <td>27915</td>\n    </tr>\n    <tr>\n      <th>...</th>\n      <td>...</td>\n      <td>...</td>\n      <td>...</td>\n      <td>...</td>\n      <td>...</td>\n    </tr>\n    <tr>\n      <th>331</th>\n      <td>Italia</td>\n      <td>Paesi esteri</td>\n      <td>2021-10-01</td>\n      <td>3697043</td>\n      <td>11802436</td>\n    </tr>\n    <tr>\n      <th>332</th>\n      <td>Abruzzo</td>\n      <td>Paesi esteri</td>\n      <td>2021-11-01</td>\n      <td>3817</td>\n      <td>11277</td>\n    </tr>\n    <tr>\n      <th>333</th>\n      <td>Italia</td>\n      <td>Paesi esteri</td>\n      <td>2021-11-01</td>\n      <td>1335662</td>\n      <td>4250595</td>\n    </tr>\n    <tr>\n      <th>334</th>\n      <td>Abruzzo</td>\n      <td>Paesi esteri</td>\n      <td>2021-12-01</td>\n      <td>2995</td>\n      <td>8732</td>\n    </tr>\n    <tr>\n      <th>335</th>\n      <td>Italia</td>\n      <td>Paesi esteri</td>\n      <td>2021-12-01</td>\n      <td>1198327</td>\n      <td>4257461</td>\n    </tr>\n  </tbody>\n</table>\n<p>336 rows × 5 columns</p>\n</div>"
     },
     "metadata": {},
     "output_type": "display_data"
    }
   ],
   "source": [
    "# Verifico che la colonna 'Territorio' contenga solo dati su 'Italia' e 'Abruzzo'\n",
    "display(df.Territorio.unique())\n",
    "# Verifico che la colonna 'Paese di residenza dei clienti' contenga solo dati su 'Paesi esteri'\n",
    "display(df['Paese di residenza dei clienti'].unique())\n",
    "# Drop della colonna 'TIPO_ALLOGGIO2' poichè inutile in questo dataset\n",
    "df.drop('TIPO_ALLOGGIO2', axis=1, inplace=True)\n",
    "\n",
    "display(df)"
   ],
   "metadata": {
    "collapsed": false,
    "pycharm": {
     "name": "#%%\n"
    }
   }
  },
  {
   "cell_type": "markdown",
   "source": [],
   "metadata": {
    "collapsed": false,
    "pycharm": {
     "name": "#%% md\n"
    }
   }
  },
  {
   "cell_type": "code",
   "execution_count": 4,
   "outputs": [
    {
     "data": {
      "text/plain": "           TIME  percentage_arrivals  percentage_attendance\n0    2008-01-01             0.347638               0.369752\n2    2008-02-01             0.361458               0.388037\n4    2008-03-01             0.274703               0.284859\n6    2008-04-01             0.348612               0.381517\n8    2008-05-01             0.461012               0.566373\n..          ...                  ...                    ...\n326  2021-08-01             0.405076               0.440751\n328  2021-09-01             0.432638               0.450290\n330  2021-10-01             0.256475               0.258760\n332  2021-11-01             0.285776               0.265304\n334  2021-12-01             0.249932               0.205099\n\n[168 rows x 3 columns]",
      "text/html": "<div>\n<style scoped>\n    .dataframe tbody tr th:only-of-type {\n        vertical-align: middle;\n    }\n\n    .dataframe tbody tr th {\n        vertical-align: top;\n    }\n\n    .dataframe thead th {\n        text-align: right;\n    }\n</style>\n<table border=\"1\" class=\"dataframe\">\n  <thead>\n    <tr style=\"text-align: right;\">\n      <th></th>\n      <th>TIME</th>\n      <th>percentage_arrivals</th>\n      <th>percentage_attendance</th>\n    </tr>\n  </thead>\n  <tbody>\n    <tr>\n      <th>0</th>\n      <td>2008-01-01</td>\n      <td>0.347638</td>\n      <td>0.369752</td>\n    </tr>\n    <tr>\n      <th>2</th>\n      <td>2008-02-01</td>\n      <td>0.361458</td>\n      <td>0.388037</td>\n    </tr>\n    <tr>\n      <th>4</th>\n      <td>2008-03-01</td>\n      <td>0.274703</td>\n      <td>0.284859</td>\n    </tr>\n    <tr>\n      <th>6</th>\n      <td>2008-04-01</td>\n      <td>0.348612</td>\n      <td>0.381517</td>\n    </tr>\n    <tr>\n      <th>8</th>\n      <td>2008-05-01</td>\n      <td>0.461012</td>\n      <td>0.566373</td>\n    </tr>\n    <tr>\n      <th>...</th>\n      <td>...</td>\n      <td>...</td>\n      <td>...</td>\n    </tr>\n    <tr>\n      <th>326</th>\n      <td>2021-08-01</td>\n      <td>0.405076</td>\n      <td>0.440751</td>\n    </tr>\n    <tr>\n      <th>328</th>\n      <td>2021-09-01</td>\n      <td>0.432638</td>\n      <td>0.450290</td>\n    </tr>\n    <tr>\n      <th>330</th>\n      <td>2021-10-01</td>\n      <td>0.256475</td>\n      <td>0.258760</td>\n    </tr>\n    <tr>\n      <th>332</th>\n      <td>2021-11-01</td>\n      <td>0.285776</td>\n      <td>0.265304</td>\n    </tr>\n    <tr>\n      <th>334</th>\n      <td>2021-12-01</td>\n      <td>0.249932</td>\n      <td>0.205099</td>\n    </tr>\n  </tbody>\n</table>\n<p>168 rows × 3 columns</p>\n</div>"
     },
     "metadata": {},
     "output_type": "display_data"
    }
   ],
   "source": [
    "# Creo un nuovo dataframe per memorizzare le percentuali dei clienti esteri in abruzzo rispetto all'italia, messi in relazione con il periodo temporale\n",
    "new_df = pd.DataFrame(columns=['TIME', 'percentage_arrivals', 'percentage_attendance'])\n",
    "\n",
    "# Scorro tutto il dataframe iniziale per ottenere le percentuali degli arrivi e le percentuali delle presenze\n",
    "for i in range(0, 336, 2):\n",
    "    # Ottengo i dati relativi agli arrivi e alle prensenze\n",
    "    arrivals_abruzzo = df['arrivi'].iloc[i]\n",
    "    arrivals_italia = df['arrivi'].iloc[i+1]\n",
    "\n",
    "    attendance_abruzzo = df['presenze'].iloc[i]\n",
    "    attendance_italia = df['presenze'].iloc[i+1]\n",
    "\n",
    "    # Calcolo le percentuali degli arrivi e delle presenze\n",
    "    percentage_arrivals = (arrivals_abruzzo * 100) / arrivals_italia\n",
    "    percentage_attendance = (attendance_abruzzo * 100) / attendance_italia\n",
    "\n",
    "    # Inserisco i dati in una lista con in aggiunta il periodo temporale per poter poi aggiungere la lista al dataframe\n",
    "    data = {'TIME' : df['TIME'].iloc[i],\n",
    "            'percentage_arrivals' : percentage_arrivals,\n",
    "            'percentage_attendance' : percentage_attendance}\n",
    "\n",
    "    # Popolo il dataframe nuovo con la lista\n",
    "    new_df.loc[i] = data\n",
    "\n",
    "\n",
    "display(new_df)"
   ],
   "metadata": {
    "collapsed": false,
    "pycharm": {
     "name": "#%%\n"
    }
   }
  },
  {
   "cell_type": "code",
   "execution_count": 5,
   "outputs": [],
   "source": [
    "# Creazione di un nuovo file csv da utilizzare in seguito per le analisi dei clienti residenti all'estero\n",
    "new_df.to_csv(\"../Data/percentuali_arrivi_presenze.csv\", index=False)"
   ],
   "metadata": {
    "collapsed": false,
    "pycharm": {
     "name": "#%%\n"
    }
   }
  }
 ],
 "metadata": {
  "kernelspec": {
   "display_name": "Python 3",
   "language": "python",
   "name": "python3"
  },
  "language_info": {
   "codemirror_mode": {
    "name": "ipython",
    "version": 2
   },
   "file_extension": ".py",
   "mimetype": "text/x-python",
   "name": "python",
   "nbconvert_exporter": "python",
   "pygments_lexer": "ipython2",
   "version": "2.7.6"
  }
 },
 "nbformat": 4,
 "nbformat_minor": 0
}
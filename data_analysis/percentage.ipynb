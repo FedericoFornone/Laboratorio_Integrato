{
 "cells": [
  {
   "cell_type": "code",
   "execution_count": 88,
   "outputs": [],
   "source": [
    "import pandas as pd\n",
    "import numpy as np\n",
    "import math"
   ],
   "metadata": {
    "collapsed": false,
    "pycharm": {
     "name": "#%%\n"
    }
   }
  },
  {
   "cell_type": "code",
   "execution_count": 89,
   "outputs": [
    {
     "data": {
      "text/plain": "      Region Infrastructure ResidenceCountry        Date  Arrivals  Attendance\n0    Abruzzo            ALL     Paesi esteri  2008-01-01      5548       21724\n1     Italia            ALL     Paesi esteri  2008-01-01   1595913     5875297\n2    Abruzzo            ALL     Paesi esteri  2008-02-01      7245       28281\n3     Italia            ALL     Paesi esteri  2008-02-01   2004381     7288219\n4    Abruzzo            ALL     Paesi esteri  2008-03-01      8108       27915\n..       ...            ...              ...         ...       ...         ...\n331   Italia            ALL     Paesi esteri  2021-10-01   3697043    11802436\n332  Abruzzo            ALL     Paesi esteri  2021-11-01      3817       11277\n333   Italia            ALL     Paesi esteri  2021-11-01   1335662     4250595\n334  Abruzzo            ALL     Paesi esteri  2021-12-01      2995        8732\n335   Italia            ALL     Paesi esteri  2021-12-01   1198327     4257461\n\n[336 rows x 6 columns]",
      "text/html": "<div>\n<style scoped>\n    .dataframe tbody tr th:only-of-type {\n        vertical-align: middle;\n    }\n\n    .dataframe tbody tr th {\n        vertical-align: top;\n    }\n\n    .dataframe thead th {\n        text-align: right;\n    }\n</style>\n<table border=\"1\" class=\"dataframe\">\n  <thead>\n    <tr style=\"text-align: right;\">\n      <th></th>\n      <th>Region</th>\n      <th>Infrastructure</th>\n      <th>ResidenceCountry</th>\n      <th>Date</th>\n      <th>Arrivals</th>\n      <th>Attendance</th>\n    </tr>\n  </thead>\n  <tbody>\n    <tr>\n      <th>0</th>\n      <td>Abruzzo</td>\n      <td>ALL</td>\n      <td>Paesi esteri</td>\n      <td>2008-01-01</td>\n      <td>5548</td>\n      <td>21724</td>\n    </tr>\n    <tr>\n      <th>1</th>\n      <td>Italia</td>\n      <td>ALL</td>\n      <td>Paesi esteri</td>\n      <td>2008-01-01</td>\n      <td>1595913</td>\n      <td>5875297</td>\n    </tr>\n    <tr>\n      <th>2</th>\n      <td>Abruzzo</td>\n      <td>ALL</td>\n      <td>Paesi esteri</td>\n      <td>2008-02-01</td>\n      <td>7245</td>\n      <td>28281</td>\n    </tr>\n    <tr>\n      <th>3</th>\n      <td>Italia</td>\n      <td>ALL</td>\n      <td>Paesi esteri</td>\n      <td>2008-02-01</td>\n      <td>2004381</td>\n      <td>7288219</td>\n    </tr>\n    <tr>\n      <th>4</th>\n      <td>Abruzzo</td>\n      <td>ALL</td>\n      <td>Paesi esteri</td>\n      <td>2008-03-01</td>\n      <td>8108</td>\n      <td>27915</td>\n    </tr>\n    <tr>\n      <th>...</th>\n      <td>...</td>\n      <td>...</td>\n      <td>...</td>\n      <td>...</td>\n      <td>...</td>\n      <td>...</td>\n    </tr>\n    <tr>\n      <th>331</th>\n      <td>Italia</td>\n      <td>ALL</td>\n      <td>Paesi esteri</td>\n      <td>2021-10-01</td>\n      <td>3697043</td>\n      <td>11802436</td>\n    </tr>\n    <tr>\n      <th>332</th>\n      <td>Abruzzo</td>\n      <td>ALL</td>\n      <td>Paesi esteri</td>\n      <td>2021-11-01</td>\n      <td>3817</td>\n      <td>11277</td>\n    </tr>\n    <tr>\n      <th>333</th>\n      <td>Italia</td>\n      <td>ALL</td>\n      <td>Paesi esteri</td>\n      <td>2021-11-01</td>\n      <td>1335662</td>\n      <td>4250595</td>\n    </tr>\n    <tr>\n      <th>334</th>\n      <td>Abruzzo</td>\n      <td>ALL</td>\n      <td>Paesi esteri</td>\n      <td>2021-12-01</td>\n      <td>2995</td>\n      <td>8732</td>\n    </tr>\n    <tr>\n      <th>335</th>\n      <td>Italia</td>\n      <td>ALL</td>\n      <td>Paesi esteri</td>\n      <td>2021-12-01</td>\n      <td>1198327</td>\n      <td>4257461</td>\n    </tr>\n  </tbody>\n</table>\n<p>336 rows × 6 columns</p>\n</div>"
     },
     "metadata": {},
     "output_type": "display_data"
    }
   ],
   "source": [
    "path = '../Data/italia_abruzzo_stranieri.csv'\n",
    "df = pd.read_csv(path, sep=',')\n",
    "display(df)"
   ],
   "metadata": {
    "collapsed": false,
    "pycharm": {
     "name": "#%%\n"
    }
   }
  },
  {
   "cell_type": "code",
   "execution_count": 90,
   "outputs": [
    {
     "ename": "AttributeError",
     "evalue": "'DataFrame' object has no attribute 'Territorio'",
     "output_type": "error",
     "traceback": [
      "\u001B[1;31m---------------------------------------------------------------------------\u001B[0m",
      "\u001B[1;31mAttributeError\u001B[0m                            Traceback (most recent call last)",
      "Cell \u001B[1;32mIn[90], line 2\u001B[0m\n\u001B[0;32m      1\u001B[0m \u001B[38;5;66;03m# Verifico che la colonna 'Territorio' contenga solo dati su 'Italia' e 'Abruzzo'\u001B[39;00m\n\u001B[1;32m----> 2\u001B[0m display(\u001B[43mdf\u001B[49m\u001B[38;5;241;43m.\u001B[39;49m\u001B[43mTerritorio\u001B[49m\u001B[38;5;241m.\u001B[39munique())\n\u001B[0;32m      3\u001B[0m \u001B[38;5;66;03m# Verifico che la colonna 'Paese di residenza dei clienti' contenga solo dati su 'Paesi esteri'\u001B[39;00m\n\u001B[0;32m      4\u001B[0m display(df[\u001B[38;5;124m'\u001B[39m\u001B[38;5;124mPaese di residenza dei clienti\u001B[39m\u001B[38;5;124m'\u001B[39m]\u001B[38;5;241m.\u001B[39munique())\n",
      "File \u001B[1;32m~\\AppData\\Local\\Programs\\Python\\Python310\\lib\\site-packages\\pandas\\core\\generic.py:5907\u001B[0m, in \u001B[0;36mNDFrame.__getattr__\u001B[1;34m(self, name)\u001B[0m\n\u001B[0;32m   5900\u001B[0m \u001B[38;5;28;01mif\u001B[39;00m (\n\u001B[0;32m   5901\u001B[0m     name \u001B[38;5;129;01mnot\u001B[39;00m \u001B[38;5;129;01min\u001B[39;00m \u001B[38;5;28mself\u001B[39m\u001B[38;5;241m.\u001B[39m_internal_names_set\n\u001B[0;32m   5902\u001B[0m     \u001B[38;5;129;01mand\u001B[39;00m name \u001B[38;5;129;01mnot\u001B[39;00m \u001B[38;5;129;01min\u001B[39;00m \u001B[38;5;28mself\u001B[39m\u001B[38;5;241m.\u001B[39m_metadata\n\u001B[0;32m   5903\u001B[0m     \u001B[38;5;129;01mand\u001B[39;00m name \u001B[38;5;129;01mnot\u001B[39;00m \u001B[38;5;129;01min\u001B[39;00m \u001B[38;5;28mself\u001B[39m\u001B[38;5;241m.\u001B[39m_accessors\n\u001B[0;32m   5904\u001B[0m     \u001B[38;5;129;01mand\u001B[39;00m \u001B[38;5;28mself\u001B[39m\u001B[38;5;241m.\u001B[39m_info_axis\u001B[38;5;241m.\u001B[39m_can_hold_identifiers_and_holds_name(name)\n\u001B[0;32m   5905\u001B[0m ):\n\u001B[0;32m   5906\u001B[0m     \u001B[38;5;28;01mreturn\u001B[39;00m \u001B[38;5;28mself\u001B[39m[name]\n\u001B[1;32m-> 5907\u001B[0m \u001B[38;5;28;01mreturn\u001B[39;00m \u001B[38;5;28;43mobject\u001B[39;49m\u001B[38;5;241;43m.\u001B[39;49m\u001B[38;5;21;43m__getattribute__\u001B[39;49m\u001B[43m(\u001B[49m\u001B[38;5;28;43mself\u001B[39;49m\u001B[43m,\u001B[49m\u001B[43m \u001B[49m\u001B[43mname\u001B[49m\u001B[43m)\u001B[49m\n",
      "\u001B[1;31mAttributeError\u001B[0m: 'DataFrame' object has no attribute 'Territorio'"
     ]
    }
   ],
   "source": [
    "# Verifico che la colonna 'Region' contenga solo dati su 'Italia' e 'Abruzzo'\n",
    "display(df.Region.unique())\n",
    "# Verifico che la colonna 'ResidenceCountry' contenga solo dati su 'Paesi esteri'\n",
    "display(df['ResidenceCountry'].unique())\n",
    "# Drop della colonna 'Infrastructure' poichè inutile in questo dataset\n",
    "df.drop('Infrastructure', axis=1, inplace=True)\n",
    "\n",
    "display(df)"
   ],
   "metadata": {
    "collapsed": false,
    "pycharm": {
     "name": "#%%\n"
    }
   }
  },
  {
   "cell_type": "markdown",
   "source": [],
   "metadata": {
    "collapsed": false,
    "pycharm": {
     "name": "#%% md\n"
    }
   }
  },
  {
   "cell_type": "code",
   "execution_count": null,
   "outputs": [],
   "source": [
    "# Creo un nuovo dataframe per memorizzare le percentuali dei clienti esteri in abruzzo rispetto all'italia, messi in relazione con il periodo temporale\n",
    "new_df = pd.DataFrame(columns=['Date', 'percentage_arrivals', 'percentage_attendance'])\n",
    "\n",
    "# Scorro tutto il dataframe iniziale per ottenere le percentuali degli arrivi e le percentuali delle presenze\n",
    "for i in range(0, 336, 2):\n",
    "    # Ottengo i dati relativi agli arrivi e alle prensenze\n",
    "    arrivals_abruzzo = df['Arrivals'].iloc[i]\n",
    "    arrivals_italia = df['Arrivals'].iloc[i+1]\n",
    "\n",
    "    attendance_abruzzo = df['Attendance'].iloc[i]\n",
    "    attendance_italia = df['Attendance'].iloc[i+1]\n",
    "\n",
    "    # Calcolo le percentuali degli arrivi e delle presenze\n",
    "    percentage_arrivals = (arrivals_abruzzo * 100) / arrivals_italia\n",
    "    percentage_attendance = (attendance_abruzzo * 100) / attendance_italia\n",
    "\n",
    "    # Inserisco i dati in una lista con in aggiunta il periodo temporale per poter poi aggiungere la lista al dataframe\n",
    "    data = {'Date' : df['Date'].iloc[i],\n",
    "            'percentage_arrivals' : percentage_arrivals,\n",
    "            'percentage_attendance' : percentage_attendance}\n",
    "\n",
    "    # Popolo il dataframe nuovo con la lista\n",
    "    new_df.loc[i] = data\n",
    "\n",
    "\n",
    "display(new_df)"
   ],
   "metadata": {
    "collapsed": false,
    "pycharm": {
     "name": "#%%\n"
    }
   }
  },
  {
   "cell_type": "code",
   "execution_count": 91,
   "outputs": [
    {
     "data": {
      "text/plain": "      Territorio TIPO_ALLOGGIO2  \\\n0         Italia      HOTELLIKE   \n1         Italia      HOTELLIKE   \n2         Italia      HOTELLIKE   \n3         Italia      HOTELLIKE   \n4         Italia      HOTELLIKE   \n...          ...            ...   \n18379     Italia          OTHER   \n18380     Italia          OTHER   \n18381     Italia          OTHER   \n18382     Italia          OTHER   \n18383     Italia          OTHER   \n\n                          Paese di residenza dei clienti        TIME   arrivi  \\\n0                                                  Altri  2008-01-01  29315.0   \n1      Altri Paesi del medio oriente (Arabia Saudita,...  2008-01-01   7125.0   \n2                                  Altri Paesi dell'Asia  2008-01-01  13892.0   \n3                                   Altri paesi africani  2008-01-01   6580.0   \n4                                    Altri paesi europei  2008-01-01  41295.0   \n...                                                  ...         ...      ...   \n18379                                         Sud Africa  2021-12-01    147.0   \n18380                                             Svezia  2021-12-01   1222.0   \n18381                                            Turchia  2021-12-01   1076.0   \n18382                                           Ungheria  2021-12-01   1498.0   \n18383                                          Venezuela  2021-12-01    342.0   \n\n       presenze  \n0       72028.0  \n1       25069.0  \n2       41702.0  \n3       21542.0  \n4      148155.0  \n...         ...  \n18379     507.0  \n18380    4538.0  \n18381    6024.0  \n18382    5410.0  \n18383    1472.0  \n\n[18384 rows x 6 columns]",
      "text/html": "<div>\n<style scoped>\n    .dataframe tbody tr th:only-of-type {\n        vertical-align: middle;\n    }\n\n    .dataframe tbody tr th {\n        vertical-align: top;\n    }\n\n    .dataframe thead th {\n        text-align: right;\n    }\n</style>\n<table border=\"1\" class=\"dataframe\">\n  <thead>\n    <tr style=\"text-align: right;\">\n      <th></th>\n      <th>Territorio</th>\n      <th>TIPO_ALLOGGIO2</th>\n      <th>Paese di residenza dei clienti</th>\n      <th>TIME</th>\n      <th>arrivi</th>\n      <th>presenze</th>\n    </tr>\n  </thead>\n  <tbody>\n    <tr>\n      <th>0</th>\n      <td>Italia</td>\n      <td>HOTELLIKE</td>\n      <td>Altri</td>\n      <td>2008-01-01</td>\n      <td>29315.0</td>\n      <td>72028.0</td>\n    </tr>\n    <tr>\n      <th>1</th>\n      <td>Italia</td>\n      <td>HOTELLIKE</td>\n      <td>Altri Paesi del medio oriente (Arabia Saudita,...</td>\n      <td>2008-01-01</td>\n      <td>7125.0</td>\n      <td>25069.0</td>\n    </tr>\n    <tr>\n      <th>2</th>\n      <td>Italia</td>\n      <td>HOTELLIKE</td>\n      <td>Altri Paesi dell'Asia</td>\n      <td>2008-01-01</td>\n      <td>13892.0</td>\n      <td>41702.0</td>\n    </tr>\n    <tr>\n      <th>3</th>\n      <td>Italia</td>\n      <td>HOTELLIKE</td>\n      <td>Altri paesi africani</td>\n      <td>2008-01-01</td>\n      <td>6580.0</td>\n      <td>21542.0</td>\n    </tr>\n    <tr>\n      <th>4</th>\n      <td>Italia</td>\n      <td>HOTELLIKE</td>\n      <td>Altri paesi europei</td>\n      <td>2008-01-01</td>\n      <td>41295.0</td>\n      <td>148155.0</td>\n    </tr>\n    <tr>\n      <th>...</th>\n      <td>...</td>\n      <td>...</td>\n      <td>...</td>\n      <td>...</td>\n      <td>...</td>\n      <td>...</td>\n    </tr>\n    <tr>\n      <th>18379</th>\n      <td>Italia</td>\n      <td>OTHER</td>\n      <td>Sud Africa</td>\n      <td>2021-12-01</td>\n      <td>147.0</td>\n      <td>507.0</td>\n    </tr>\n    <tr>\n      <th>18380</th>\n      <td>Italia</td>\n      <td>OTHER</td>\n      <td>Svezia</td>\n      <td>2021-12-01</td>\n      <td>1222.0</td>\n      <td>4538.0</td>\n    </tr>\n    <tr>\n      <th>18381</th>\n      <td>Italia</td>\n      <td>OTHER</td>\n      <td>Turchia</td>\n      <td>2021-12-01</td>\n      <td>1076.0</td>\n      <td>6024.0</td>\n    </tr>\n    <tr>\n      <th>18382</th>\n      <td>Italia</td>\n      <td>OTHER</td>\n      <td>Ungheria</td>\n      <td>2021-12-01</td>\n      <td>1498.0</td>\n      <td>5410.0</td>\n    </tr>\n    <tr>\n      <th>18383</th>\n      <td>Italia</td>\n      <td>OTHER</td>\n      <td>Venezuela</td>\n      <td>2021-12-01</td>\n      <td>342.0</td>\n      <td>1472.0</td>\n    </tr>\n  </tbody>\n</table>\n<p>18384 rows × 6 columns</p>\n</div>"
     },
     "metadata": {},
     "output_type": "display_data"
    }
   ],
   "source": [
    "df_estero = pd.read_csv('../Data/estero.csv')\n",
    "display(df_estero)"
   ],
   "metadata": {
    "collapsed": false,
    "pycharm": {
     "name": "#%%\n"
    }
   }
  },
  {
   "cell_type": "code",
   "execution_count": null,
   "outputs": [],
   "source": [
    "df_estero = pd.merge(df_estero, new_df, on = \"Date\", how = \"inner\")"
   ],
   "metadata": {
    "collapsed": false,
    "pycharm": {
     "name": "#%%\n"
    }
   }
  },
  {
   "cell_type": "code",
   "execution_count": null,
   "outputs": [],
   "source": [
    "display(df_estero)"
   ],
   "metadata": {
    "collapsed": false,
    "pycharm": {
     "name": "#%%\n"
    }
   }
  },
  {
   "cell_type": "code",
   "execution_count": null,
   "outputs": [],
   "source": [
    "# Calcolo delle percentuali delle presenze e degli arrivi in italia da parte di turisti esteri\n",
    "for i in range(len(df_estero)):\n",
    "    df_estero.loc[i, \"Arrivals\"] = math.ceil((df_estero.loc[i, 'percentage_arrivals'] * df_estero.loc[i, 'Arrivals']) / 100)\n",
    "    df_estero.loc[i, \"Attendance\"] = math.ceil((df_estero.loc[i, 'percentage_attendance'] * df_estero.loc[i, 'Attendance']) / 100)"
   ],
   "metadata": {
    "collapsed": false,
    "pycharm": {
     "name": "#%%\n"
    }
   }
  },
  {
   "cell_type": "code",
   "execution_count": null,
   "outputs": [],
   "source": [
    "df_estero.drop(['percentage_attendance', 'percentage_arrivals'], axis=1, inplace=True)\n",
    "df_estero.Region = 'Abruzzo'"
   ],
   "metadata": {
    "collapsed": false,
    "pycharm": {
     "name": "#%%\n"
    }
   }
  },
  {
   "cell_type": "code",
   "execution_count": null,
   "outputs": [],
   "source": [
    "display(df_estero)"
   ],
   "metadata": {
    "collapsed": false,
    "pycharm": {
     "name": "#%%\n"
    }
   }
  },
  {
   "cell_type": "code",
   "execution_count": 2,
   "outputs": [
    {
     "name": "stdout",
     "output_type": "stream",
     "text": [
      "4954.0\n"
     ]
    }
   ],
   "source": [
    "# Creazione di un nuovo file csv da utilizzare in seguito per le analisi dei clienti residenti all'estero\n",
    "df_estero.to_csv(\"../Data/final_data/turisti_stranieri_abruzzo.csv\", index=False)"
   ],
   "metadata": {
    "collapsed": false,
    "pycharm": {
     "name": "#%%\n"
    }
   }
  }
 ],
 "metadata": {
  "kernelspec": {
   "display_name": "Python 3",
   "language": "python",
   "name": "python3"
  },
  "language_info": {
   "codemirror_mode": {
    "name": "ipython",
    "version": 2
   },
   "file_extension": ".py",
   "mimetype": "text/x-python",
   "name": "python",
   "nbconvert_exporter": "python",
   "pygments_lexer": "ipython2",
   "version": "2.7.6"
  }
 },
 "nbformat": 4,
 "nbformat_minor": 0
}
{
 "cells": [
  {
   "cell_type": "code",
   "execution_count": 4,
   "metadata": {
    "collapsed": true,
    "pycharm": {
     "name": "#%%\n"
    }
   },
   "outputs": [
    {
     "data": {
      "text/plain": "      Region Infrastructure ResidenceCountry  Date   Arrivals  Attendance\n0    Abruzzo      HOTELLIKE           Italia  2008  1205426.0   4479655.0\n1    Abruzzo      HOTELLIKE     Paesi esteri  2008   149736.0    643212.0\n2    Abruzzo          OTHER           Italia  2008   228036.0   2060178.0\n3    Abruzzo          OTHER     Paesi esteri  2008    43151.0    377431.0\n4     Chieti      HOTELLIKE           Italia  2008   225852.0    703217.0\n..       ...            ...              ...   ...        ...         ...\n275  Pescara          OTHER     Paesi esteri  2021     5436.0     17261.0\n276   Teramo      HOTELLIKE           Italia  2021   307565.0   1467477.0\n277   Teramo      HOTELLIKE     Paesi esteri  2021    25985.0    139814.0\n278   Teramo          OTHER           Italia  2021   149393.0   1208004.0\n279   Teramo          OTHER     Paesi esteri  2021    20819.0    138830.0\n\n[280 rows x 6 columns]",
      "text/html": "<div>\n<style scoped>\n    .dataframe tbody tr th:only-of-type {\n        vertical-align: middle;\n    }\n\n    .dataframe tbody tr th {\n        vertical-align: top;\n    }\n\n    .dataframe thead th {\n        text-align: right;\n    }\n</style>\n<table border=\"1\" class=\"dataframe\">\n  <thead>\n    <tr style=\"text-align: right;\">\n      <th></th>\n      <th>Region</th>\n      <th>Infrastructure</th>\n      <th>ResidenceCountry</th>\n      <th>Date</th>\n      <th>Arrivals</th>\n      <th>Attendance</th>\n    </tr>\n  </thead>\n  <tbody>\n    <tr>\n      <th>0</th>\n      <td>Abruzzo</td>\n      <td>HOTELLIKE</td>\n      <td>Italia</td>\n      <td>2008</td>\n      <td>1205426.0</td>\n      <td>4479655.0</td>\n    </tr>\n    <tr>\n      <th>1</th>\n      <td>Abruzzo</td>\n      <td>HOTELLIKE</td>\n      <td>Paesi esteri</td>\n      <td>2008</td>\n      <td>149736.0</td>\n      <td>643212.0</td>\n    </tr>\n    <tr>\n      <th>2</th>\n      <td>Abruzzo</td>\n      <td>OTHER</td>\n      <td>Italia</td>\n      <td>2008</td>\n      <td>228036.0</td>\n      <td>2060178.0</td>\n    </tr>\n    <tr>\n      <th>3</th>\n      <td>Abruzzo</td>\n      <td>OTHER</td>\n      <td>Paesi esteri</td>\n      <td>2008</td>\n      <td>43151.0</td>\n      <td>377431.0</td>\n    </tr>\n    <tr>\n      <th>4</th>\n      <td>Chieti</td>\n      <td>HOTELLIKE</td>\n      <td>Italia</td>\n      <td>2008</td>\n      <td>225852.0</td>\n      <td>703217.0</td>\n    </tr>\n    <tr>\n      <th>...</th>\n      <td>...</td>\n      <td>...</td>\n      <td>...</td>\n      <td>...</td>\n      <td>...</td>\n      <td>...</td>\n    </tr>\n    <tr>\n      <th>275</th>\n      <td>Pescara</td>\n      <td>OTHER</td>\n      <td>Paesi esteri</td>\n      <td>2021</td>\n      <td>5436.0</td>\n      <td>17261.0</td>\n    </tr>\n    <tr>\n      <th>276</th>\n      <td>Teramo</td>\n      <td>HOTELLIKE</td>\n      <td>Italia</td>\n      <td>2021</td>\n      <td>307565.0</td>\n      <td>1467477.0</td>\n    </tr>\n    <tr>\n      <th>277</th>\n      <td>Teramo</td>\n      <td>HOTELLIKE</td>\n      <td>Paesi esteri</td>\n      <td>2021</td>\n      <td>25985.0</td>\n      <td>139814.0</td>\n    </tr>\n    <tr>\n      <th>278</th>\n      <td>Teramo</td>\n      <td>OTHER</td>\n      <td>Italia</td>\n      <td>2021</td>\n      <td>149393.0</td>\n      <td>1208004.0</td>\n    </tr>\n    <tr>\n      <th>279</th>\n      <td>Teramo</td>\n      <td>OTHER</td>\n      <td>Paesi esteri</td>\n      <td>2021</td>\n      <td>20819.0</td>\n      <td>138830.0</td>\n    </tr>\n  </tbody>\n</table>\n<p>280 rows × 6 columns</p>\n</div>"
     },
     "metadata": {},
     "output_type": "display_data"
    }
   ],
   "source": [
    "import pandas as pd\n",
    "\n",
    "df = pd.read_csv('../Data/final_data/annuo_abruzzo.csv')\n",
    "\n",
    "display(df)"
   ]
  },
  {
   "cell_type": "code",
   "execution_count": 5,
   "outputs": [],
   "source": [
    "df_input = pd.read_csv('../Data/final_data/province.csv')\n",
    "\n",
    "combined = pd.concat([df, df_input], ignore_index=True)"
   ],
   "metadata": {
    "collapsed": false,
    "pycharm": {
     "name": "#%%\n"
    }
   }
  },
  {
   "cell_type": "code",
   "execution_count": 6,
   "outputs": [
    {
     "data": {
      "text/plain": "       Region Infrastructure ResidenceCountry        Date   Arrivals  \\\n0     Abruzzo      HOTELLIKE           Italia        2008  1205426.0   \n1     Abruzzo      HOTELLIKE     Paesi esteri        2008   149736.0   \n2     Abruzzo          OTHER           Italia        2008   228036.0   \n3     Abruzzo          OTHER     Paesi esteri        2008    43151.0   \n4      Chieti      HOTELLIKE           Italia        2008   225852.0   \n...       ...            ...              ...         ...        ...   \n3635  Pescara          OTHER     Paesi esteri  2021-12-01      145.0   \n3636   Teramo      HOTELLIKE           Italia  2021-12-01     7582.0   \n3637   Teramo      HOTELLIKE     Paesi esteri  2021-12-01      410.0   \n3638   Teramo          OTHER           Italia  2021-12-01     1333.0   \n3639   Teramo          OTHER     Paesi esteri  2021-12-01       60.0   \n\n      Attendance  \n0      4479655.0  \n1       643212.0  \n2      2060178.0  \n3       377431.0  \n4       703217.0  \n...          ...  \n3635       409.0  \n3636     19674.0  \n3637      1761.0  \n3638      4437.0  \n3639       294.0  \n\n[3640 rows x 6 columns]",
      "text/html": "<div>\n<style scoped>\n    .dataframe tbody tr th:only-of-type {\n        vertical-align: middle;\n    }\n\n    .dataframe tbody tr th {\n        vertical-align: top;\n    }\n\n    .dataframe thead th {\n        text-align: right;\n    }\n</style>\n<table border=\"1\" class=\"dataframe\">\n  <thead>\n    <tr style=\"text-align: right;\">\n      <th></th>\n      <th>Region</th>\n      <th>Infrastructure</th>\n      <th>ResidenceCountry</th>\n      <th>Date</th>\n      <th>Arrivals</th>\n      <th>Attendance</th>\n    </tr>\n  </thead>\n  <tbody>\n    <tr>\n      <th>0</th>\n      <td>Abruzzo</td>\n      <td>HOTELLIKE</td>\n      <td>Italia</td>\n      <td>2008</td>\n      <td>1205426.0</td>\n      <td>4479655.0</td>\n    </tr>\n    <tr>\n      <th>1</th>\n      <td>Abruzzo</td>\n      <td>HOTELLIKE</td>\n      <td>Paesi esteri</td>\n      <td>2008</td>\n      <td>149736.0</td>\n      <td>643212.0</td>\n    </tr>\n    <tr>\n      <th>2</th>\n      <td>Abruzzo</td>\n      <td>OTHER</td>\n      <td>Italia</td>\n      <td>2008</td>\n      <td>228036.0</td>\n      <td>2060178.0</td>\n    </tr>\n    <tr>\n      <th>3</th>\n      <td>Abruzzo</td>\n      <td>OTHER</td>\n      <td>Paesi esteri</td>\n      <td>2008</td>\n      <td>43151.0</td>\n      <td>377431.0</td>\n    </tr>\n    <tr>\n      <th>4</th>\n      <td>Chieti</td>\n      <td>HOTELLIKE</td>\n      <td>Italia</td>\n      <td>2008</td>\n      <td>225852.0</td>\n      <td>703217.0</td>\n    </tr>\n    <tr>\n      <th>...</th>\n      <td>...</td>\n      <td>...</td>\n      <td>...</td>\n      <td>...</td>\n      <td>...</td>\n      <td>...</td>\n    </tr>\n    <tr>\n      <th>3635</th>\n      <td>Pescara</td>\n      <td>OTHER</td>\n      <td>Paesi esteri</td>\n      <td>2021-12-01</td>\n      <td>145.0</td>\n      <td>409.0</td>\n    </tr>\n    <tr>\n      <th>3636</th>\n      <td>Teramo</td>\n      <td>HOTELLIKE</td>\n      <td>Italia</td>\n      <td>2021-12-01</td>\n      <td>7582.0</td>\n      <td>19674.0</td>\n    </tr>\n    <tr>\n      <th>3637</th>\n      <td>Teramo</td>\n      <td>HOTELLIKE</td>\n      <td>Paesi esteri</td>\n      <td>2021-12-01</td>\n      <td>410.0</td>\n      <td>1761.0</td>\n    </tr>\n    <tr>\n      <th>3638</th>\n      <td>Teramo</td>\n      <td>OTHER</td>\n      <td>Italia</td>\n      <td>2021-12-01</td>\n      <td>1333.0</td>\n      <td>4437.0</td>\n    </tr>\n    <tr>\n      <th>3639</th>\n      <td>Teramo</td>\n      <td>OTHER</td>\n      <td>Paesi esteri</td>\n      <td>2021-12-01</td>\n      <td>60.0</td>\n      <td>294.0</td>\n    </tr>\n  </tbody>\n</table>\n<p>3640 rows × 6 columns</p>\n</div>"
     },
     "metadata": {},
     "output_type": "display_data"
    }
   ],
   "source": [
    "display(combined)"
   ],
   "metadata": {
    "collapsed": false,
    "pycharm": {
     "name": "#%%\n"
    }
   }
  },
  {
   "cell_type": "code",
   "execution_count": 7,
   "outputs": [],
   "source": [
    "combined.to_csv(\"../Data/final_data/abruzzo.csv\", index=False)"
   ],
   "metadata": {
    "collapsed": false,
    "pycharm": {
     "name": "#%%\n"
    }
   }
  }
 ],
 "metadata": {
  "kernelspec": {
   "display_name": "Python 3",
   "language": "python",
   "name": "python3"
  },
  "language_info": {
   "codemirror_mode": {
    "name": "ipython",
    "version": 2
   },
   "file_extension": ".py",
   "mimetype": "text/x-python",
   "name": "python",
   "nbconvert_exporter": "python",
   "pygments_lexer": "ipython2",
   "version": "2.7.6"
  }
 },
 "nbformat": 4,
 "nbformat_minor": 0
}
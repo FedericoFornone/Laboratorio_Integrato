{
 "cells": [
  {
   "cell_type": "code",
   "execution_count": 28,
   "metadata": {
    "collapsed": true,
    "pycharm": {
     "name": "#%%\n"
    }
   },
   "outputs": [],
   "source": [
    "import pandas as pd\n",
    "import matplotlib.pyplot as plt\n",
    "import numpy as np\n",
    "import seaborn as sns\n",
    "import math"
   ]
  },
  {
   "cell_type": "code",
   "execution_count": 29,
   "outputs": [
    {
     "data": {
      "text/plain": "      Territorio TIPO_ALLOGGIO2  \\\n0        Abruzzo      HOTELLIKE   \n1        Abruzzo      HOTELLIKE   \n2        Abruzzo      HOTELLIKE   \n3        Abruzzo      HOTELLIKE   \n4        Abruzzo      HOTELLIKE   \n...          ...            ...   \n18379    Abruzzo          OTHER   \n18380    Abruzzo          OTHER   \n18381    Abruzzo          OTHER   \n18382    Abruzzo          OTHER   \n18383    Abruzzo          OTHER   \n\n                          Paese di residenza dei clienti        TIME  arrivi  \\\n0                                                  Altri  2008-01-01   102.0   \n1      Altri Paesi del medio oriente (Arabia Saudita,...  2008-01-01    25.0   \n2                                  Altri Paesi dell'Asia  2008-01-01    49.0   \n3                                   Altri paesi africani  2008-01-01    23.0   \n4                                    Altri paesi europei  2008-01-01   144.0   \n...                                                  ...         ...     ...   \n18379                                         Sud Africa  2021-12-01     1.0   \n18380                                             Svezia  2021-12-01     4.0   \n18381                                            Turchia  2021-12-01     3.0   \n18382                                           Ungheria  2021-12-01     4.0   \n18383                                          Venezuela  2021-12-01     1.0   \n\n       presenze  \n0         267.0  \n1          93.0  \n2         155.0  \n3          80.0  \n4         548.0  \n...         ...  \n18379       2.0  \n18380      10.0  \n18381      13.0  \n18382      12.0  \n18383       4.0  \n\n[18384 rows x 6 columns]",
      "text/html": "<div>\n<style scoped>\n    .dataframe tbody tr th:only-of-type {\n        vertical-align: middle;\n    }\n\n    .dataframe tbody tr th {\n        vertical-align: top;\n    }\n\n    .dataframe thead th {\n        text-align: right;\n    }\n</style>\n<table border=\"1\" class=\"dataframe\">\n  <thead>\n    <tr style=\"text-align: right;\">\n      <th></th>\n      <th>Territorio</th>\n      <th>TIPO_ALLOGGIO2</th>\n      <th>Paese di residenza dei clienti</th>\n      <th>TIME</th>\n      <th>arrivi</th>\n      <th>presenze</th>\n    </tr>\n  </thead>\n  <tbody>\n    <tr>\n      <th>0</th>\n      <td>Abruzzo</td>\n      <td>HOTELLIKE</td>\n      <td>Altri</td>\n      <td>2008-01-01</td>\n      <td>102.0</td>\n      <td>267.0</td>\n    </tr>\n    <tr>\n      <th>1</th>\n      <td>Abruzzo</td>\n      <td>HOTELLIKE</td>\n      <td>Altri Paesi del medio oriente (Arabia Saudita,...</td>\n      <td>2008-01-01</td>\n      <td>25.0</td>\n      <td>93.0</td>\n    </tr>\n    <tr>\n      <th>2</th>\n      <td>Abruzzo</td>\n      <td>HOTELLIKE</td>\n      <td>Altri Paesi dell'Asia</td>\n      <td>2008-01-01</td>\n      <td>49.0</td>\n      <td>155.0</td>\n    </tr>\n    <tr>\n      <th>3</th>\n      <td>Abruzzo</td>\n      <td>HOTELLIKE</td>\n      <td>Altri paesi africani</td>\n      <td>2008-01-01</td>\n      <td>23.0</td>\n      <td>80.0</td>\n    </tr>\n    <tr>\n      <th>4</th>\n      <td>Abruzzo</td>\n      <td>HOTELLIKE</td>\n      <td>Altri paesi europei</td>\n      <td>2008-01-01</td>\n      <td>144.0</td>\n      <td>548.0</td>\n    </tr>\n    <tr>\n      <th>...</th>\n      <td>...</td>\n      <td>...</td>\n      <td>...</td>\n      <td>...</td>\n      <td>...</td>\n      <td>...</td>\n    </tr>\n    <tr>\n      <th>18379</th>\n      <td>Abruzzo</td>\n      <td>OTHER</td>\n      <td>Sud Africa</td>\n      <td>2021-12-01</td>\n      <td>1.0</td>\n      <td>2.0</td>\n    </tr>\n    <tr>\n      <th>18380</th>\n      <td>Abruzzo</td>\n      <td>OTHER</td>\n      <td>Svezia</td>\n      <td>2021-12-01</td>\n      <td>4.0</td>\n      <td>10.0</td>\n    </tr>\n    <tr>\n      <th>18381</th>\n      <td>Abruzzo</td>\n      <td>OTHER</td>\n      <td>Turchia</td>\n      <td>2021-12-01</td>\n      <td>3.0</td>\n      <td>13.0</td>\n    </tr>\n    <tr>\n      <th>18382</th>\n      <td>Abruzzo</td>\n      <td>OTHER</td>\n      <td>Ungheria</td>\n      <td>2021-12-01</td>\n      <td>4.0</td>\n      <td>12.0</td>\n    </tr>\n    <tr>\n      <th>18383</th>\n      <td>Abruzzo</td>\n      <td>OTHER</td>\n      <td>Venezuela</td>\n      <td>2021-12-01</td>\n      <td>1.0</td>\n      <td>4.0</td>\n    </tr>\n  </tbody>\n</table>\n<p>18384 rows × 6 columns</p>\n</div>"
     },
     "metadata": {},
     "output_type": "display_data"
    }
   ],
   "source": [
    "# Apertura del dataframe\n",
    "path = '../Data/final_data/turisti_stranieri_abruzzo.csv'\n",
    "df = pd.read_csv(path)\n",
    "\n",
    "display(df)"
   ],
   "metadata": {
    "collapsed": false,
    "pycharm": {
     "name": "#%%\n"
    }
   }
  },
  {
   "cell_type": "code",
   "execution_count": 30,
   "outputs": [
    {
     "name": "stdout",
     "output_type": "stream",
     "text": [
      "['Altri'\n",
      " 'Altri Paesi del medio oriente (Arabia Saudita, Barhein, Emirati Arabi Uniti, Giordania, Irak, Iran, Kuwait, Oman, Quatar, Siria, Yemen)'\n",
      " \"Altri Paesi dell'Asia\" 'Altri paesi africani' 'Altri paesi europei'\n",
      " 'Argentina' 'Australia' 'Austria' 'Belgio' 'Brasile' 'Bulgaria' 'Canada'\n",
      " 'Ceca, Repubblica' 'Cina' 'Cipro' 'Corea del sud' 'Croazia' 'Danimarca'\n",
      " 'Egitto' 'Estonia' 'Finlandia' 'Francia' 'Germania' 'Giappone' 'Grecia'\n",
      " 'India' 'Irlanda' 'Islanda' 'Israele' 'Italia' 'Lettonia' 'Lituania'\n",
      " 'Lussemburgo' 'Malta' 'Messico' 'Norvegia' 'Nuova Zelanda' 'Paesi Bassi'\n",
      " \"Paesi dell'Africa mediterranea (Libia, Tunisia, Algeria, Marocco)\"\n",
      " 'Paesi esteri' 'Polonia' 'Portogallo' 'Regno unito' 'Romania' 'Russia'\n",
      " 'Slovacchia' 'Slovenia' 'Spagna' 'Stati Uniti' 'Sud Africa' 'Svezia'\n",
      " 'Turchia' 'Ungheria' 'Venezuela' \"Altri Paesi dell'Oceania\"]\n"
     ]
    }
   ],
   "source": [
    "# Creazione di una lista di paesi di provenienza dei turisti esteri\n",
    "country_list = df['Paese di residenza dei clienti'].unique()\n",
    "print(country_list)"
   ],
   "metadata": {
    "collapsed": false,
    "pycharm": {
     "name": "#%%\n"
    }
   }
  }
 ],
 "metadata": {
  "kernelspec": {
   "display_name": "Python 3",
   "language": "python",
   "name": "python3"
  },
  "language_info": {
   "codemirror_mode": {
    "name": "ipython",
    "version": 2
   },
   "file_extension": ".py",
   "mimetype": "text/x-python",
   "name": "python",
   "nbconvert_exporter": "python",
   "pygments_lexer": "ipython2",
   "version": "2.7.6"
  }
 },
 "nbformat": 4,
 "nbformat_minor": 0
}